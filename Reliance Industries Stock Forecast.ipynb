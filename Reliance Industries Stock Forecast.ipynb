{
 "cells": [
  {
   "cell_type": "code",
   "execution_count": 2,
   "id": "0e13a135",
   "metadata": {
    "ExecuteTime": {
     "end_time": "2023-06-30T09:06:23.523873Z",
     "start_time": "2023-06-30T09:06:18.027800Z"
    }
   },
   "outputs": [],
   "source": [
    "# Import Basic Libraries\n",
    "import pandas as pd\n",
    "import numpy as np\n",
    "\n",
    "#Visualization Libraries\n",
    "import matplotlib.pyplot as plt\n",
    "import seaborn as sns\n",
    "import plotly.express as px\n",
    "import plotly.graph_objects as go\n",
    "\n",
    "#Importing Warnings to ignore Warnings\n",
    "import warnings\n",
    "warnings.filterwarnings('ignore')"
   ]
  },
  {
   "cell_type": "markdown",
   "id": "7e373072",
   "metadata": {},
   "source": [
    "### Importing dataset"
   ]
  },
  {
   "cell_type": "code",
   "execution_count": 3,
   "id": "a229e030",
   "metadata": {
    "ExecuteTime": {
     "end_time": "2023-06-30T09:06:23.570354Z",
     "start_time": "2023-06-30T09:06:23.528857Z"
    }
   },
   "outputs": [],
   "source": [
    "df = pd.read_csv(r\"E:\\RELIANCE.BO(1).csv\")"
   ]
  },
  {
   "cell_type": "code",
   "execution_count": 4,
   "id": "8c8f051b",
   "metadata": {
    "ExecuteTime": {
     "end_time": "2023-06-30T09:06:23.616110Z",
     "start_time": "2023-06-30T09:06:23.575541Z"
    }
   },
   "outputs": [
    {
     "data": {
      "text/html": [
       "<div>\n",
       "<style scoped>\n",
       "    .dataframe tbody tr th:only-of-type {\n",
       "        vertical-align: middle;\n",
       "    }\n",
       "\n",
       "    .dataframe tbody tr th {\n",
       "        vertical-align: top;\n",
       "    }\n",
       "\n",
       "    .dataframe thead th {\n",
       "        text-align: right;\n",
       "    }\n",
       "</style>\n",
       "<table border=\"1\" class=\"dataframe\">\n",
       "  <thead>\n",
       "    <tr style=\"text-align: right;\">\n",
       "      <th></th>\n",
       "      <th>Date</th>\n",
       "      <th>Open</th>\n",
       "      <th>High</th>\n",
       "      <th>Low</th>\n",
       "      <th>Close</th>\n",
       "      <th>Adj Close</th>\n",
       "      <th>Volume</th>\n",
       "    </tr>\n",
       "  </thead>\n",
       "  <tbody>\n",
       "    <tr>\n",
       "      <th>0</th>\n",
       "      <td>2000-03-30</td>\n",
       "      <td>72.724998</td>\n",
       "      <td>72.724998</td>\n",
       "      <td>72.724998</td>\n",
       "      <td>72.724998</td>\n",
       "      <td>38.694046</td>\n",
       "      <td>2400.0</td>\n",
       "    </tr>\n",
       "    <tr>\n",
       "      <th>1</th>\n",
       "      <td>2000-03-31</td>\n",
       "      <td>67.250000</td>\n",
       "      <td>67.250000</td>\n",
       "      <td>67.250000</td>\n",
       "      <td>67.250000</td>\n",
       "      <td>35.781017</td>\n",
       "      <td>10700.0</td>\n",
       "    </tr>\n",
       "    <tr>\n",
       "      <th>2</th>\n",
       "      <td>2000-04-03</td>\n",
       "      <td>NaN</td>\n",
       "      <td>NaN</td>\n",
       "      <td>NaN</td>\n",
       "      <td>NaN</td>\n",
       "      <td>NaN</td>\n",
       "      <td>NaN</td>\n",
       "    </tr>\n",
       "    <tr>\n",
       "      <th>3</th>\n",
       "      <td>2000-04-04</td>\n",
       "      <td>NaN</td>\n",
       "      <td>NaN</td>\n",
       "      <td>NaN</td>\n",
       "      <td>NaN</td>\n",
       "      <td>NaN</td>\n",
       "      <td>NaN</td>\n",
       "    </tr>\n",
       "    <tr>\n",
       "      <th>4</th>\n",
       "      <td>2000-04-05</td>\n",
       "      <td>74.750000</td>\n",
       "      <td>74.750000</td>\n",
       "      <td>74.750000</td>\n",
       "      <td>74.750000</td>\n",
       "      <td>39.771469</td>\n",
       "      <td>1600.0</td>\n",
       "    </tr>\n",
       "  </tbody>\n",
       "</table>\n",
       "</div>"
      ],
      "text/plain": [
       "         Date       Open       High        Low      Close  Adj Close   Volume\n",
       "0  2000-03-30  72.724998  72.724998  72.724998  72.724998  38.694046   2400.0\n",
       "1  2000-03-31  67.250000  67.250000  67.250000  67.250000  35.781017  10700.0\n",
       "2  2000-04-03        NaN        NaN        NaN        NaN        NaN      NaN\n",
       "3  2000-04-04        NaN        NaN        NaN        NaN        NaN      NaN\n",
       "4  2000-04-05  74.750000  74.750000  74.750000  74.750000  39.771469   1600.0"
      ]
     },
     "execution_count": 4,
     "metadata": {},
     "output_type": "execute_result"
    }
   ],
   "source": [
    "df.head()"
   ]
  },
  {
   "cell_type": "code",
   "execution_count": 5,
   "id": "a58787b9",
   "metadata": {
    "ExecuteTime": {
     "end_time": "2023-06-30T09:06:23.646670Z",
     "start_time": "2023-06-30T09:06:23.623391Z"
    }
   },
   "outputs": [
    {
     "data": {
      "text/html": [
       "<div>\n",
       "<style scoped>\n",
       "    .dataframe tbody tr th:only-of-type {\n",
       "        vertical-align: middle;\n",
       "    }\n",
       "\n",
       "    .dataframe tbody tr th {\n",
       "        vertical-align: top;\n",
       "    }\n",
       "\n",
       "    .dataframe thead th {\n",
       "        text-align: right;\n",
       "    }\n",
       "</style>\n",
       "<table border=\"1\" class=\"dataframe\">\n",
       "  <thead>\n",
       "    <tr style=\"text-align: right;\">\n",
       "      <th></th>\n",
       "      <th>Date</th>\n",
       "      <th>Open</th>\n",
       "      <th>High</th>\n",
       "      <th>Low</th>\n",
       "      <th>Close</th>\n",
       "      <th>Adj Close</th>\n",
       "      <th>Volume</th>\n",
       "    </tr>\n",
       "  </thead>\n",
       "  <tbody>\n",
       "    <tr>\n",
       "      <th>5992</th>\n",
       "      <td>2024-03-21</td>\n",
       "      <td>2891.399902</td>\n",
       "      <td>2915.000000</td>\n",
       "      <td>2889.649902</td>\n",
       "      <td>2901.300049</td>\n",
       "      <td>2901.300049</td>\n",
       "      <td>77091.0</td>\n",
       "    </tr>\n",
       "    <tr>\n",
       "      <th>5993</th>\n",
       "      <td>2024-03-22</td>\n",
       "      <td>2897.050049</td>\n",
       "      <td>2920.000000</td>\n",
       "      <td>2895.350098</td>\n",
       "      <td>2909.899902</td>\n",
       "      <td>2909.899902</td>\n",
       "      <td>562484.0</td>\n",
       "    </tr>\n",
       "    <tr>\n",
       "      <th>5994</th>\n",
       "      <td>2024-03-26</td>\n",
       "      <td>2888.600098</td>\n",
       "      <td>2905.250000</td>\n",
       "      <td>2877.000000</td>\n",
       "      <td>2884.149902</td>\n",
       "      <td>2884.149902</td>\n",
       "      <td>943865.0</td>\n",
       "    </tr>\n",
       "    <tr>\n",
       "      <th>5995</th>\n",
       "      <td>2024-03-27</td>\n",
       "      <td>2899.649902</td>\n",
       "      <td>2999.899902</td>\n",
       "      <td>2897.899902</td>\n",
       "      <td>2987.850098</td>\n",
       "      <td>2987.850098</td>\n",
       "      <td>471025.0</td>\n",
       "    </tr>\n",
       "    <tr>\n",
       "      <th>5996</th>\n",
       "      <td>2024-03-28</td>\n",
       "      <td>2994.350098</td>\n",
       "      <td>3011.250000</td>\n",
       "      <td>2959.000000</td>\n",
       "      <td>2976.800049</td>\n",
       "      <td>2976.800049</td>\n",
       "      <td>422263.0</td>\n",
       "    </tr>\n",
       "  </tbody>\n",
       "</table>\n",
       "</div>"
      ],
      "text/plain": [
       "            Date         Open         High          Low        Close  \\\n",
       "5992  2024-03-21  2891.399902  2915.000000  2889.649902  2901.300049   \n",
       "5993  2024-03-22  2897.050049  2920.000000  2895.350098  2909.899902   \n",
       "5994  2024-03-26  2888.600098  2905.250000  2877.000000  2884.149902   \n",
       "5995  2024-03-27  2899.649902  2999.899902  2897.899902  2987.850098   \n",
       "5996  2024-03-28  2994.350098  3011.250000  2959.000000  2976.800049   \n",
       "\n",
       "        Adj Close    Volume  \n",
       "5992  2901.300049   77091.0  \n",
       "5993  2909.899902  562484.0  \n",
       "5994  2884.149902  943865.0  \n",
       "5995  2987.850098  471025.0  \n",
       "5996  2976.800049  422263.0  "
      ]
     },
     "execution_count": 5,
     "metadata": {},
     "output_type": "execute_result"
    }
   ],
   "source": [
    "df.tail() "
   ]
  },
  {
   "cell_type": "markdown",
   "id": "b6d4a22d",
   "metadata": {},
   "source": [
    "# EDA"
   ]
  },
  {
   "cell_type": "code",
   "execution_count": 6,
   "id": "c50c5068",
   "metadata": {
    "ExecuteTime": {
     "end_time": "2023-06-30T09:06:23.662261Z",
     "start_time": "2023-06-30T09:06:23.648629Z"
    }
   },
   "outputs": [
    {
     "data": {
      "text/plain": [
       "(5997, 7)"
      ]
     },
     "execution_count": 6,
     "metadata": {},
     "output_type": "execute_result"
    }
   ],
   "source": [
    "df.shape"
   ]
  },
  {
   "cell_type": "code",
   "execution_count": 7,
   "id": "b7d30ed5",
   "metadata": {
    "ExecuteTime": {
     "end_time": "2023-06-30T09:06:23.692850Z",
     "start_time": "2023-06-30T09:06:23.666277Z"
    }
   },
   "outputs": [
    {
     "name": "stdout",
     "output_type": "stream",
     "text": [
      "<class 'pandas.core.frame.DataFrame'>\n",
      "RangeIndex: 5997 entries, 0 to 5996\n",
      "Data columns (total 7 columns):\n",
      " #   Column     Non-Null Count  Dtype  \n",
      "---  ------     --------------  -----  \n",
      " 0   Date       5997 non-null   object \n",
      " 1   Open       5825 non-null   float64\n",
      " 2   High       5825 non-null   float64\n",
      " 3   Low        5825 non-null   float64\n",
      " 4   Close      5825 non-null   float64\n",
      " 5   Adj Close  5825 non-null   float64\n",
      " 6   Volume     5825 non-null   float64\n",
      "dtypes: float64(6), object(1)\n",
      "memory usage: 328.1+ KB\n"
     ]
    }
   ],
   "source": [
    "df.info()"
   ]
  },
  {
   "cell_type": "code",
   "execution_count": 8,
   "id": "12a39dee",
   "metadata": {
    "ExecuteTime": {
     "end_time": "2023-06-30T09:06:23.723781Z",
     "start_time": "2023-06-30T09:06:23.695281Z"
    }
   },
   "outputs": [
    {
     "name": "stdout",
     "output_type": "stream",
     "text": [
      "<class 'pandas.core.frame.DataFrame'>\n",
      "RangeIndex: 5997 entries, 0 to 5996\n",
      "Data columns (total 7 columns):\n",
      " #   Column     Non-Null Count  Dtype         \n",
      "---  ------     --------------  -----         \n",
      " 0   Date       5997 non-null   datetime64[ns]\n",
      " 1   Open       5825 non-null   float64       \n",
      " 2   High       5825 non-null   float64       \n",
      " 3   Low        5825 non-null   float64       \n",
      " 4   Close      5825 non-null   float64       \n",
      " 5   Adj Close  5825 non-null   float64       \n",
      " 6   Volume     5825 non-null   float64       \n",
      "dtypes: datetime64[ns](1), float64(6)\n",
      "memory usage: 328.1 KB\n"
     ]
    }
   ],
   "source": [
    "df['Date']=pd.to_datetime(df['Date'])# Changing Date datatype from object todatetime\n",
    "df.info()"
   ]
  },
  {
   "cell_type": "code",
   "execution_count": 9,
   "id": "61db9842",
   "metadata": {
    "ExecuteTime": {
     "end_time": "2023-06-30T09:06:23.770952Z",
     "start_time": "2023-06-30T09:06:23.727772Z"
    }
   },
   "outputs": [
    {
     "data": {
      "text/html": [
       "<div>\n",
       "<style scoped>\n",
       "    .dataframe tbody tr th:only-of-type {\n",
       "        vertical-align: middle;\n",
       "    }\n",
       "\n",
       "    .dataframe tbody tr th {\n",
       "        vertical-align: top;\n",
       "    }\n",
       "\n",
       "    .dataframe thead th {\n",
       "        text-align: right;\n",
       "    }\n",
       "</style>\n",
       "<table border=\"1\" class=\"dataframe\">\n",
       "  <thead>\n",
       "    <tr style=\"text-align: right;\">\n",
       "      <th></th>\n",
       "      <th>count</th>\n",
       "      <th>mean</th>\n",
       "      <th>min</th>\n",
       "      <th>25%</th>\n",
       "      <th>50%</th>\n",
       "      <th>75%</th>\n",
       "      <th>max</th>\n",
       "      <th>std</th>\n",
       "    </tr>\n",
       "  </thead>\n",
       "  <tbody>\n",
       "    <tr>\n",
       "      <th>Date</th>\n",
       "      <td>5997</td>\n",
       "      <td>2012-02-17 20:23:10.295147520</td>\n",
       "      <td>2000-03-30 00:00:00</td>\n",
       "      <td>2006-01-12 00:00:00</td>\n",
       "      <td>2012-02-06 00:00:00</td>\n",
       "      <td>2018-03-01 00:00:00</td>\n",
       "      <td>2024-03-28 00:00:00</td>\n",
       "      <td>NaN</td>\n",
       "    </tr>\n",
       "    <tr>\n",
       "      <th>Open</th>\n",
       "      <td>5825.0</td>\n",
       "      <td>763.114347</td>\n",
       "      <td>51.549999</td>\n",
       "      <td>243.774994</td>\n",
       "      <td>478.549988</td>\n",
       "      <td>941.25</td>\n",
       "      <td>3011.699951</td>\n",
       "      <td>770.219196</td>\n",
       "    </tr>\n",
       "    <tr>\n",
       "      <th>High</th>\n",
       "      <td>5825.0</td>\n",
       "      <td>771.71016</td>\n",
       "      <td>51.549999</td>\n",
       "      <td>248.675003</td>\n",
       "      <td>483.75</td>\n",
       "      <td>949.799988</td>\n",
       "      <td>3024.800049</td>\n",
       "      <td>777.610971</td>\n",
       "    </tr>\n",
       "    <tr>\n",
       "      <th>Low</th>\n",
       "      <td>5825.0</td>\n",
       "      <td>753.971449</td>\n",
       "      <td>51.549999</td>\n",
       "      <td>239.0</td>\n",
       "      <td>472.125</td>\n",
       "      <td>932.0</td>\n",
       "      <td>2975.050049</td>\n",
       "      <td>762.125513</td>\n",
       "    </tr>\n",
       "    <tr>\n",
       "      <th>Close</th>\n",
       "      <td>5825.0</td>\n",
       "      <td>762.467262</td>\n",
       "      <td>51.549999</td>\n",
       "      <td>244.362503</td>\n",
       "      <td>478.0</td>\n",
       "      <td>940.900024</td>\n",
       "      <td>3011.600098</td>\n",
       "      <td>769.5457</td>\n",
       "    </tr>\n",
       "    <tr>\n",
       "      <th>Adj Close</th>\n",
       "      <td>5825.0</td>\n",
       "      <td>727.924793</td>\n",
       "      <td>28.786877</td>\n",
       "      <td>194.815903</td>\n",
       "      <td>427.867096</td>\n",
       "      <td>934.772766</td>\n",
       "      <td>3011.600098</td>\n",
       "      <td>781.754763</td>\n",
       "    </tr>\n",
       "    <tr>\n",
       "      <th>Volume</th>\n",
       "      <td>5825.0</td>\n",
       "      <td>4376110.163948</td>\n",
       "      <td>0.0</td>\n",
       "      <td>480304.0</td>\n",
       "      <td>1299468.0</td>\n",
       "      <td>5250236.0</td>\n",
       "      <td>794622600.0</td>\n",
       "      <td>18971771.685844</td>\n",
       "    </tr>\n",
       "  </tbody>\n",
       "</table>\n",
       "</div>"
      ],
      "text/plain": [
       "            count                           mean                  min  \\\n",
       "Date         5997  2012-02-17 20:23:10.295147520  2000-03-30 00:00:00   \n",
       "Open       5825.0                     763.114347            51.549999   \n",
       "High       5825.0                      771.71016            51.549999   \n",
       "Low        5825.0                     753.971449            51.549999   \n",
       "Close      5825.0                     762.467262            51.549999   \n",
       "Adj Close  5825.0                     727.924793            28.786877   \n",
       "Volume     5825.0                 4376110.163948                  0.0   \n",
       "\n",
       "                           25%                  50%                  75%  \\\n",
       "Date       2006-01-12 00:00:00  2012-02-06 00:00:00  2018-03-01 00:00:00   \n",
       "Open                243.774994           478.549988               941.25   \n",
       "High                248.675003               483.75           949.799988   \n",
       "Low                      239.0              472.125                932.0   \n",
       "Close               244.362503                478.0           940.900024   \n",
       "Adj Close           194.815903           427.867096           934.772766   \n",
       "Volume                480304.0            1299468.0            5250236.0   \n",
       "\n",
       "                           max              std  \n",
       "Date       2024-03-28 00:00:00              NaN  \n",
       "Open               3011.699951       770.219196  \n",
       "High               3024.800049       777.610971  \n",
       "Low                2975.050049       762.125513  \n",
       "Close              3011.600098         769.5457  \n",
       "Adj Close          3011.600098       781.754763  \n",
       "Volume             794622600.0  18971771.685844  "
      ]
     },
     "execution_count": 9,
     "metadata": {},
     "output_type": "execute_result"
    }
   ],
   "source": [
    "df.describe().T"
   ]
  },
  {
   "cell_type": "code",
   "execution_count": 10,
   "id": "240f41c1",
   "metadata": {
    "ExecuteTime": {
     "end_time": "2023-06-30T09:06:23.801722Z",
     "start_time": "2023-06-30T09:06:23.774544Z"
    }
   },
   "outputs": [
    {
     "data": {
      "text/html": [
       "<div>\n",
       "<style scoped>\n",
       "    .dataframe tbody tr th:only-of-type {\n",
       "        vertical-align: middle;\n",
       "    }\n",
       "\n",
       "    .dataframe tbody tr th {\n",
       "        vertical-align: top;\n",
       "    }\n",
       "\n",
       "    .dataframe thead th {\n",
       "        text-align: right;\n",
       "    }\n",
       "</style>\n",
       "<table border=\"1\" class=\"dataframe\">\n",
       "  <thead>\n",
       "    <tr style=\"text-align: right;\">\n",
       "      <th></th>\n",
       "      <th>Date</th>\n",
       "      <th>Open</th>\n",
       "      <th>High</th>\n",
       "      <th>Low</th>\n",
       "      <th>Close</th>\n",
       "      <th>Adj_Close</th>\n",
       "      <th>Volume</th>\n",
       "    </tr>\n",
       "  </thead>\n",
       "  <tbody>\n",
       "    <tr>\n",
       "      <th>0</th>\n",
       "      <td>2000-03-30</td>\n",
       "      <td>72.724998</td>\n",
       "      <td>72.724998</td>\n",
       "      <td>72.724998</td>\n",
       "      <td>72.724998</td>\n",
       "      <td>38.694046</td>\n",
       "      <td>2400.0</td>\n",
       "    </tr>\n",
       "    <tr>\n",
       "      <th>1</th>\n",
       "      <td>2000-03-31</td>\n",
       "      <td>67.250000</td>\n",
       "      <td>67.250000</td>\n",
       "      <td>67.250000</td>\n",
       "      <td>67.250000</td>\n",
       "      <td>35.781017</td>\n",
       "      <td>10700.0</td>\n",
       "    </tr>\n",
       "    <tr>\n",
       "      <th>2</th>\n",
       "      <td>2000-04-03</td>\n",
       "      <td>NaN</td>\n",
       "      <td>NaN</td>\n",
       "      <td>NaN</td>\n",
       "      <td>NaN</td>\n",
       "      <td>NaN</td>\n",
       "      <td>NaN</td>\n",
       "    </tr>\n",
       "    <tr>\n",
       "      <th>3</th>\n",
       "      <td>2000-04-04</td>\n",
       "      <td>NaN</td>\n",
       "      <td>NaN</td>\n",
       "      <td>NaN</td>\n",
       "      <td>NaN</td>\n",
       "      <td>NaN</td>\n",
       "      <td>NaN</td>\n",
       "    </tr>\n",
       "    <tr>\n",
       "      <th>4</th>\n",
       "      <td>2000-04-05</td>\n",
       "      <td>74.750000</td>\n",
       "      <td>74.750000</td>\n",
       "      <td>74.750000</td>\n",
       "      <td>74.750000</td>\n",
       "      <td>39.771469</td>\n",
       "      <td>1600.0</td>\n",
       "    </tr>\n",
       "    <tr>\n",
       "      <th>...</th>\n",
       "      <td>...</td>\n",
       "      <td>...</td>\n",
       "      <td>...</td>\n",
       "      <td>...</td>\n",
       "      <td>...</td>\n",
       "      <td>...</td>\n",
       "      <td>...</td>\n",
       "    </tr>\n",
       "    <tr>\n",
       "      <th>5992</th>\n",
       "      <td>2024-03-21</td>\n",
       "      <td>2891.399902</td>\n",
       "      <td>2915.000000</td>\n",
       "      <td>2889.649902</td>\n",
       "      <td>2901.300049</td>\n",
       "      <td>2901.300049</td>\n",
       "      <td>77091.0</td>\n",
       "    </tr>\n",
       "    <tr>\n",
       "      <th>5993</th>\n",
       "      <td>2024-03-22</td>\n",
       "      <td>2897.050049</td>\n",
       "      <td>2920.000000</td>\n",
       "      <td>2895.350098</td>\n",
       "      <td>2909.899902</td>\n",
       "      <td>2909.899902</td>\n",
       "      <td>562484.0</td>\n",
       "    </tr>\n",
       "    <tr>\n",
       "      <th>5994</th>\n",
       "      <td>2024-03-26</td>\n",
       "      <td>2888.600098</td>\n",
       "      <td>2905.250000</td>\n",
       "      <td>2877.000000</td>\n",
       "      <td>2884.149902</td>\n",
       "      <td>2884.149902</td>\n",
       "      <td>943865.0</td>\n",
       "    </tr>\n",
       "    <tr>\n",
       "      <th>5995</th>\n",
       "      <td>2024-03-27</td>\n",
       "      <td>2899.649902</td>\n",
       "      <td>2999.899902</td>\n",
       "      <td>2897.899902</td>\n",
       "      <td>2987.850098</td>\n",
       "      <td>2987.850098</td>\n",
       "      <td>471025.0</td>\n",
       "    </tr>\n",
       "    <tr>\n",
       "      <th>5996</th>\n",
       "      <td>2024-03-28</td>\n",
       "      <td>2994.350098</td>\n",
       "      <td>3011.250000</td>\n",
       "      <td>2959.000000</td>\n",
       "      <td>2976.800049</td>\n",
       "      <td>2976.800049</td>\n",
       "      <td>422263.0</td>\n",
       "    </tr>\n",
       "  </tbody>\n",
       "</table>\n",
       "<p>5997 rows × 7 columns</p>\n",
       "</div>"
      ],
      "text/plain": [
       "           Date         Open         High          Low        Close  \\\n",
       "0    2000-03-30    72.724998    72.724998    72.724998    72.724998   \n",
       "1    2000-03-31    67.250000    67.250000    67.250000    67.250000   \n",
       "2    2000-04-03          NaN          NaN          NaN          NaN   \n",
       "3    2000-04-04          NaN          NaN          NaN          NaN   \n",
       "4    2000-04-05    74.750000    74.750000    74.750000    74.750000   \n",
       "...         ...          ...          ...          ...          ...   \n",
       "5992 2024-03-21  2891.399902  2915.000000  2889.649902  2901.300049   \n",
       "5993 2024-03-22  2897.050049  2920.000000  2895.350098  2909.899902   \n",
       "5994 2024-03-26  2888.600098  2905.250000  2877.000000  2884.149902   \n",
       "5995 2024-03-27  2899.649902  2999.899902  2897.899902  2987.850098   \n",
       "5996 2024-03-28  2994.350098  3011.250000  2959.000000  2976.800049   \n",
       "\n",
       "        Adj_Close    Volume  \n",
       "0       38.694046    2400.0  \n",
       "1       35.781017   10700.0  \n",
       "2             NaN       NaN  \n",
       "3             NaN       NaN  \n",
       "4       39.771469    1600.0  \n",
       "...           ...       ...  \n",
       "5992  2901.300049   77091.0  \n",
       "5993  2909.899902  562484.0  \n",
       "5994  2884.149902  943865.0  \n",
       "5995  2987.850098  471025.0  \n",
       "5996  2976.800049  422263.0  \n",
       "\n",
       "[5997 rows x 7 columns]"
      ]
     },
     "execution_count": 10,
     "metadata": {},
     "output_type": "execute_result"
    }
   ],
   "source": [
    "df=df.rename(columns = {'Adj Close':'Adj_Close'})#renaming the column\n",
    "df"
   ]
  },
  {
   "cell_type": "markdown",
   "id": "d8a97c95",
   "metadata": {},
   "source": [
    "### Checking For Duplicate & Missing Values"
   ]
  },
  {
   "cell_type": "code",
   "execution_count": 11,
   "id": "ef9641b5",
   "metadata": {
    "ExecuteTime": {
     "end_time": "2023-06-30T09:06:23.832866Z",
     "start_time": "2023-06-30T09:06:23.812746Z"
    }
   },
   "outputs": [
    {
     "data": {
      "text/plain": [
       "0"
      ]
     },
     "execution_count": 11,
     "metadata": {},
     "output_type": "execute_result"
    }
   ],
   "source": [
    "df.duplicated().sum()"
   ]
  },
  {
   "cell_type": "code",
   "execution_count": 12,
   "id": "054dcd15",
   "metadata": {
    "ExecuteTime": {
     "end_time": "2023-06-30T09:06:23.863341Z",
     "start_time": "2023-06-30T09:06:23.835382Z"
    }
   },
   "outputs": [
    {
     "data": {
      "text/plain": [
       "Date           0\n",
       "Open         172\n",
       "High         172\n",
       "Low          172\n",
       "Close        172\n",
       "Adj_Close    172\n",
       "Volume       172\n",
       "dtype: int64"
      ]
     },
     "execution_count": 12,
     "metadata": {},
     "output_type": "execute_result"
    }
   ],
   "source": [
    "df.isnull().sum()"
   ]
  },
  {
   "cell_type": "markdown",
   "id": "1f8c2893",
   "metadata": {},
   "source": [
    "### Filling Null values "
   ]
  },
  {
   "cell_type": "code",
   "execution_count": 13,
   "id": "3cbad14a",
   "metadata": {
    "ExecuteTime": {
     "end_time": "2023-06-30T09:06:23.909484Z",
     "start_time": "2023-06-30T09:06:23.866868Z"
    }
   },
   "outputs": [
    {
     "data": {
      "text/html": [
       "<div>\n",
       "<style scoped>\n",
       "    .dataframe tbody tr th:only-of-type {\n",
       "        vertical-align: middle;\n",
       "    }\n",
       "\n",
       "    .dataframe tbody tr th {\n",
       "        vertical-align: top;\n",
       "    }\n",
       "\n",
       "    .dataframe thead th {\n",
       "        text-align: right;\n",
       "    }\n",
       "</style>\n",
       "<table border=\"1\" class=\"dataframe\">\n",
       "  <thead>\n",
       "    <tr style=\"text-align: right;\">\n",
       "      <th></th>\n",
       "      <th>Date</th>\n",
       "      <th>Open</th>\n",
       "      <th>High</th>\n",
       "      <th>Low</th>\n",
       "      <th>Close</th>\n",
       "      <th>Adj_Close</th>\n",
       "      <th>Volume</th>\n",
       "    </tr>\n",
       "  </thead>\n",
       "  <tbody>\n",
       "    <tr>\n",
       "      <th>0</th>\n",
       "      <td>2000-03-30</td>\n",
       "      <td>72.724998</td>\n",
       "      <td>72.724998</td>\n",
       "      <td>72.724998</td>\n",
       "      <td>72.724998</td>\n",
       "      <td>38.694046</td>\n",
       "      <td>2.400000e+03</td>\n",
       "    </tr>\n",
       "    <tr>\n",
       "      <th>1</th>\n",
       "      <td>2000-03-31</td>\n",
       "      <td>67.250000</td>\n",
       "      <td>67.250000</td>\n",
       "      <td>67.250000</td>\n",
       "      <td>67.250000</td>\n",
       "      <td>35.781017</td>\n",
       "      <td>1.070000e+04</td>\n",
       "    </tr>\n",
       "    <tr>\n",
       "      <th>2</th>\n",
       "      <td>2000-04-03</td>\n",
       "      <td>763.114347</td>\n",
       "      <td>771.710160</td>\n",
       "      <td>753.971449</td>\n",
       "      <td>762.467262</td>\n",
       "      <td>727.924793</td>\n",
       "      <td>4.376110e+06</td>\n",
       "    </tr>\n",
       "    <tr>\n",
       "      <th>3</th>\n",
       "      <td>2000-04-04</td>\n",
       "      <td>763.114347</td>\n",
       "      <td>771.710160</td>\n",
       "      <td>753.971449</td>\n",
       "      <td>762.467262</td>\n",
       "      <td>727.924793</td>\n",
       "      <td>4.376110e+06</td>\n",
       "    </tr>\n",
       "    <tr>\n",
       "      <th>4</th>\n",
       "      <td>2000-04-05</td>\n",
       "      <td>74.750000</td>\n",
       "      <td>74.750000</td>\n",
       "      <td>74.750000</td>\n",
       "      <td>74.750000</td>\n",
       "      <td>39.771469</td>\n",
       "      <td>1.600000e+03</td>\n",
       "    </tr>\n",
       "    <tr>\n",
       "      <th>...</th>\n",
       "      <td>...</td>\n",
       "      <td>...</td>\n",
       "      <td>...</td>\n",
       "      <td>...</td>\n",
       "      <td>...</td>\n",
       "      <td>...</td>\n",
       "      <td>...</td>\n",
       "    </tr>\n",
       "    <tr>\n",
       "      <th>5992</th>\n",
       "      <td>2024-03-21</td>\n",
       "      <td>2891.399902</td>\n",
       "      <td>2915.000000</td>\n",
       "      <td>2889.649902</td>\n",
       "      <td>2901.300049</td>\n",
       "      <td>2901.300049</td>\n",
       "      <td>7.709100e+04</td>\n",
       "    </tr>\n",
       "    <tr>\n",
       "      <th>5993</th>\n",
       "      <td>2024-03-22</td>\n",
       "      <td>2897.050049</td>\n",
       "      <td>2920.000000</td>\n",
       "      <td>2895.350098</td>\n",
       "      <td>2909.899902</td>\n",
       "      <td>2909.899902</td>\n",
       "      <td>5.624840e+05</td>\n",
       "    </tr>\n",
       "    <tr>\n",
       "      <th>5994</th>\n",
       "      <td>2024-03-26</td>\n",
       "      <td>2888.600098</td>\n",
       "      <td>2905.250000</td>\n",
       "      <td>2877.000000</td>\n",
       "      <td>2884.149902</td>\n",
       "      <td>2884.149902</td>\n",
       "      <td>9.438650e+05</td>\n",
       "    </tr>\n",
       "    <tr>\n",
       "      <th>5995</th>\n",
       "      <td>2024-03-27</td>\n",
       "      <td>2899.649902</td>\n",
       "      <td>2999.899902</td>\n",
       "      <td>2897.899902</td>\n",
       "      <td>2987.850098</td>\n",
       "      <td>2987.850098</td>\n",
       "      <td>4.710250e+05</td>\n",
       "    </tr>\n",
       "    <tr>\n",
       "      <th>5996</th>\n",
       "      <td>2024-03-28</td>\n",
       "      <td>2994.350098</td>\n",
       "      <td>3011.250000</td>\n",
       "      <td>2959.000000</td>\n",
       "      <td>2976.800049</td>\n",
       "      <td>2976.800049</td>\n",
       "      <td>4.222630e+05</td>\n",
       "    </tr>\n",
       "  </tbody>\n",
       "</table>\n",
       "<p>5997 rows × 7 columns</p>\n",
       "</div>"
      ],
      "text/plain": [
       "           Date         Open         High          Low        Close  \\\n",
       "0    2000-03-30    72.724998    72.724998    72.724998    72.724998   \n",
       "1    2000-03-31    67.250000    67.250000    67.250000    67.250000   \n",
       "2    2000-04-03   763.114347   771.710160   753.971449   762.467262   \n",
       "3    2000-04-04   763.114347   771.710160   753.971449   762.467262   \n",
       "4    2000-04-05    74.750000    74.750000    74.750000    74.750000   \n",
       "...         ...          ...          ...          ...          ...   \n",
       "5992 2024-03-21  2891.399902  2915.000000  2889.649902  2901.300049   \n",
       "5993 2024-03-22  2897.050049  2920.000000  2895.350098  2909.899902   \n",
       "5994 2024-03-26  2888.600098  2905.250000  2877.000000  2884.149902   \n",
       "5995 2024-03-27  2899.649902  2999.899902  2897.899902  2987.850098   \n",
       "5996 2024-03-28  2994.350098  3011.250000  2959.000000  2976.800049   \n",
       "\n",
       "        Adj_Close        Volume  \n",
       "0       38.694046  2.400000e+03  \n",
       "1       35.781017  1.070000e+04  \n",
       "2      727.924793  4.376110e+06  \n",
       "3      727.924793  4.376110e+06  \n",
       "4       39.771469  1.600000e+03  \n",
       "...           ...           ...  \n",
       "5992  2901.300049  7.709100e+04  \n",
       "5993  2909.899902  5.624840e+05  \n",
       "5994  2884.149902  9.438650e+05  \n",
       "5995  2987.850098  4.710250e+05  \n",
       "5996  2976.800049  4.222630e+05  \n",
       "\n",
       "[5997 rows x 7 columns]"
      ]
     },
     "execution_count": 13,
     "metadata": {},
     "output_type": "execute_result"
    }
   ],
   "source": [
    "df=df.fillna(df.mean()) #filled null values with their column mean value\n",
    "df"
   ]
  },
  {
   "cell_type": "code",
   "execution_count": 14,
   "id": "637ae0e3",
   "metadata": {
    "ExecuteTime": {
     "end_time": "2023-06-30T09:06:23.925109Z",
     "start_time": "2023-06-30T09:06:23.913145Z"
    }
   },
   "outputs": [
    {
     "name": "stdout",
     "output_type": "stream",
     "text": [
      "Date         0\n",
      "Open         0\n",
      "High         0\n",
      "Low          0\n",
      "Close        0\n",
      "Adj_Close    0\n",
      "Volume       0\n",
      "dtype: int64\n"
     ]
    }
   ],
   "source": [
    "print(df.isnull().sum())"
   ]
  },
  {
   "cell_type": "markdown",
   "id": "6542fccd",
   "metadata": {},
   "source": [
    "### Extracting Year,Quarter,Month,Week & Day from Date Column "
   ]
  },
  {
   "cell_type": "markdown",
   "id": "f2fa9124",
   "metadata": {},
   "source": [
    "## Correlation analysis"
   ]
  },
  {
   "cell_type": "code",
   "execution_count": 17,
   "id": "02311bc6",
   "metadata": {
    "ExecuteTime": {
     "end_time": "2023-06-30T09:06:24.002826Z",
     "start_time": "2023-06-30T09:06:23.990850Z"
    }
   },
   "outputs": [
    {
     "name": "stdout",
     "output_type": "stream",
     "text": [
      "Correlation Coefficient: -0.13449287948503222\n"
     ]
    }
   ],
   "source": [
    "correlation = df['Volume'].corr(df['Adj_Close'])\n",
    "print('Correlation Coefficient:', correlation)"
   ]
  },
  {
   "cell_type": "markdown",
   "id": "1a4b729a",
   "metadata": {},
   "source": [
    "we can observe both volume and Adj_close attributes are -vely correlated to each other"
   ]
  },
  {
   "cell_type": "markdown",
   "id": "d630dc1c",
   "metadata": {},
   "source": [
    "## Visualization"
   ]
  },
  {
   "cell_type": "markdown",
   "id": "775ae1ee",
   "metadata": {},
   "source": [
    "### Box & Whisker plot"
   ]
  },
  {
   "cell_type": "code",
   "execution_count": 20,
   "id": "c1071c27",
   "metadata": {
    "ExecuteTime": {
     "end_time": "2023-06-30T09:06:29.609461Z",
     "start_time": "2023-06-30T09:06:27.987698Z"
    }
   },
   "outputs": [
    {
     "data": {
      "text/plain": [
       "<Axes: title={'center': 'Yearly Adj Closing Price'}, xlabel='year', ylabel='Adj_Close'>"
      ]
     },
     "execution_count": 20,
     "metadata": {},
     "output_type": "execute_result"
    },
    {
     "data": {
      "image/png": "[encoded data removed]",
      "text/plain": [
       "<Figure size 1500x1000 with 2 Axes>"
      ]
     },
     "metadata": {},
     "output_type": "display_data"
    }
   ],
   "source": [
    "plt.figure(figsize=(15,10))\n",
    "plt.subplot(211)\n",
    "plt.title(\"Montly Adj Closing Price\")\n",
    "sns.boxplot(x=\"month\",y=\"Adj_Close\",data=df)\n",
    "plt.subplot(212)\n",
    "plt.title(\"Yearly Adj Closing Price\")\n",
    "sns.boxplot(x=\"year\",y=\"Adj_Close\",data=df)"
   ]
  },
  {
   "cell_type": "markdown",
   "id": "e2b26da8",
   "metadata": {},
   "source": [
    "### Line Plot"
   ]
  },
  {
   "cell_type": "code",
   "execution_count": 21,
   "id": "f88eb2a3",
   "metadata": {
    "ExecuteTime": {
     "end_time": "2023-06-30T09:06:29.934131Z",
     "start_time": "2023-06-30T09:06:29.611696Z"
    },
    "scrolled": true
   },
   "outputs": [
    {
     "data": {
      "image/png": "[encoded data removed]",
      "text/plain": [
       "<Figure size 1500x400 with 1 Axes>"
      ]
     },
     "metadata": {},
     "output_type": "display_data"
    }
   ],
   "source": [
    "# Lineplot for Closing Stock value\n",
    "plt.figure(figsize=(15,4))\n",
    "plt.ylabel(\"Closing Stock Value of Reliance Industries\")\n",
    "plt.plot(df['Adj_Close'], linewidth=2,color='green')\n",
    "plt.show()"
   ]
  },
  {
   "cell_type": "code",
   "execution_count": 22,
   "id": "1035b247",
   "metadata": {
    "ExecuteTime": {
     "end_time": "2023-06-30T09:06:31.801992Z",
     "start_time": "2023-06-30T09:06:29.939559Z"
    }
   },
   "outputs": [
    {
     "data": {
      "text/plain": [
       "<Axes: xlabel='year', ylabel='Adj_Close'>"
      ]
     },
     "execution_count": 22,
     "metadata": {},
     "output_type": "execute_result"
    },
    {
     "data": {
      "image/png": "[encoded data removed]",
      "text/plain": [
       "<Figure size 1200x300 with 1 Axes>"
      ]
     },
     "metadata": {},
     "output_type": "display_data"
    }
   ],
   "source": [
    "plt.figure(figsize=(12,3))\n",
    "sns.lineplot(x=\"year\",y=\"Adj_Close\",data=df,color='green') #yearly closing value"
   ]
  },
  {
   "cell_type": "code",
   "execution_count": 23,
   "id": "48675ac6",
   "metadata": {
    "ExecuteTime": {
     "end_time": "2023-06-30T09:06:32.941422Z",
     "start_time": "2023-06-30T09:06:31.804984Z"
    }
   },
   "outputs": [
    {
     "data": {
      "text/plain": [
       "<Axes: xlabel='month', ylabel='Adj_Close'>"
      ]
     },
     "execution_count": 23,
     "metadata": {},
     "output_type": "execute_result"
    },
    {
     "data": {
      "image/png": "[encoded data removed]",
      "text/plain": [
       "<Figure size 1200x300 with 1 Axes>"
      ]
     },
     "metadata": {},
     "output_type": "display_data"
    }
   ],
   "source": [
    "plt.figure(figsize=(12,3))\n",
    "sns.lineplot(x=\"month\",y=\"Adj_Close\",data=df,color='green') #monthly closing value"
   ]
  },
  {
   "cell_type": "markdown",
   "id": "9220c501",
   "metadata": {},
   "source": [
    "### Q-Q plot of Adj_Close\n",
    "used to determine whether dataset is distributed a certain way"
   ]
  },
  {
   "cell_type": "code",
   "execution_count": 24,
   "id": "fc541eda",
   "metadata": {
    "ExecuteTime": {
     "end_time": "2023-06-30T09:06:33.378064Z",
     "start_time": "2023-06-30T09:06:32.945353Z"
    }
   },
   "outputs": [
    {
     "data": {
      "image/png": "[encoded data removed]",
      "text/plain": [
       "<Figure size 640x480 with 1 Axes>"
      ]
     },
     "metadata": {},
     "output_type": "display_data"
    }
   ],
   "source": [
    "import scipy.stats\n",
    "import pylab\n",
    "scipy.stats.probplot(df.Adj_Close,plot=pylab)\n",
    "pylab.show()"
   ]
  },
  {
   "cell_type": "markdown",
   "id": "6c8365ad",
   "metadata": {},
   "source": [
    "### Histogram\n"
   ]
  },
  {
   "cell_type": "code",
   "execution_count": 25,
   "id": "035ce541",
   "metadata": {
    "ExecuteTime": {
     "end_time": "2023-06-30T09:06:34.050408Z",
     "start_time": "2023-06-30T09:06:33.380059Z"
    },
    "scrolled": true
   },
   "outputs": [
    {
     "data": {
      "image/png": "[encoded data removed]",
      "text/plain": [
       "<Figure size 1500x500 with 2 Axes>"
      ]
     },
     "metadata": {},
     "output_type": "display_data"
    }
   ],
   "source": [
    "plt.subplot(1,2,1)\n",
    "df['Adj_Close'].hist(figsize=(15,5),color='green')\n",
    "plt.title('A Histogram of Adj Closing Values of Reliance Stock Data')\n",
    "plt.subplot(1,2,2)\n",
    "df['Volume'].hist(figsize=(15,5),color='green')\n",
    "plt.title('A Histogram of Volume of Reliance Stock Data')\n",
    "plt.show()"
   ]
  },
  {
   "cell_type": "raw",
   "id": "1e8e40c0",
   "metadata": {},
   "source": [
    "The Data is positively Skewed"
   ]
  },
  {
   "cell_type": "markdown",
   "id": "413d7b67",
   "metadata": {},
   "source": [
    "### Density Plot\n"
   ]
  },
  {
   "cell_type": "code",
   "execution_count": 26,
   "id": "7e16e899",
   "metadata": {
    "ExecuteTime": {
     "end_time": "2023-06-30T09:06:35.449244Z",
     "start_time": "2023-06-30T09:06:34.055392Z"
    },
    "scrolled": true
   },
   "outputs": [
    {
     "data": {
      "image/png": "[encoded data removed]",
      "text/plain": [
       "<Figure size 1500x400 with 2 Axes>"
      ]
     },
     "metadata": {},
     "output_type": "display_data"
    }
   ],
   "source": [
    "plt.figure(figsize=(15,4))\n",
    "plt.subplot(1,2,1)\n",
    "df.Adj_Close.plot.density(color='green')\n",
    "plt.title('Density Plot for Adj Close Value')\n",
    "plt.subplot(1,2,2)\n",
    "df.Volume.plot.density(color='green')\n",
    "plt.title('Density Plot for Volume')\n",
    "plt.show()"
   ]
  },
  {
   "cell_type": "markdown",
   "id": "219609d3",
   "metadata": {},
   "source": [
    "### Lag Plots "
   ]
  },
  {
   "cell_type": "code",
   "execution_count": 27,
   "id": "0efe4170",
   "metadata": {
    "ExecuteTime": {
     "end_time": "2023-06-30T09:06:35.744578Z",
     "start_time": "2023-06-30T09:06:35.454238Z"
    }
   },
   "outputs": [
    {
     "data": {
      "image/png": "[encoded data removed]",
      "text/plain": [
       "<Figure size 640x480 with 1 Axes>"
      ]
     },
     "metadata": {},
     "output_type": "display_data"
    }
   ],
   "source": [
    "from pandas.plotting import lag_plot\n",
    "\n",
    "lag_plot(df['Adj_Close'])\n",
    "plt.show()\n",
    "#Strongly linearly correlated"
   ]
  },
  {
   "cell_type": "markdown",
   "id": "eb69fdfe",
   "metadata": {},
   "source": [
    "###  ACF plots and PACF plots"
   ]
  },
  {
   "cell_type": "code",
   "execution_count": 28,
   "id": "2b7fe425",
   "metadata": {
    "ExecuteTime": {
     "end_time": "2023-06-30T09:06:36.771211Z",
     "start_time": "2023-06-30T09:06:35.748504Z"
    }
   },
   "outputs": [
    {
     "data": {
      "image/png": "[encoded data removed]",
      "text/plain": [
       "<Figure size 640x480 with 1 Axes>"
      ]
     },
     "metadata": {},
     "output_type": "display_data"
    },
    {
     "data": {
      "image/png": "[encoded data removed]",
      "text/plain": [
       "<Figure size 640x480 with 1 Axes>"
      ]
     },
     "metadata": {},
     "output_type": "display_data"
    }
   ],
   "source": [
    "#importing tsa plots\n",
    "import statsmodels.graphics.tsaplots as tsa_plots\n",
    "\n",
    "tsa_plots.plot_acf(df.Adj_Close,lags=12) #ACF Plot\n",
    "\n",
    "tsa_plots.plot_pacf(df.Adj_Close,lags=12) #PACF Plot\n",
    "plt.show()"
   ]
  },
  {
   "cell_type": "markdown",
   "id": "d044a540",
   "metadata": {},
   "source": [
    "### Extracting Daily returns"
   ]
  },
  {
   "cell_type": "code",
   "execution_count": 29,
   "id": "7f58ecc3",
   "metadata": {
    "ExecuteTime": {
     "end_time": "2023-06-30T09:06:36.817279Z",
     "start_time": "2023-06-30T09:06:36.775631Z"
    }
   },
   "outputs": [
    {
     "data": {
      "text/html": [
       "<div>\n",
       "<style scoped>\n",
       "    .dataframe tbody tr th:only-of-type {\n",
       "        vertical-align: middle;\n",
       "    }\n",
       "\n",
       "    .dataframe tbody tr th {\n",
       "        vertical-align: top;\n",
       "    }\n",
       "\n",
       "    .dataframe thead th {\n",
       "        text-align: right;\n",
       "    }\n",
       "</style>\n",
       "<table border=\"1\" class=\"dataframe\">\n",
       "  <thead>\n",
       "    <tr style=\"text-align: right;\">\n",
       "      <th></th>\n",
       "      <th>Date</th>\n",
       "      <th>Open</th>\n",
       "      <th>High</th>\n",
       "      <th>Low</th>\n",
       "      <th>Close</th>\n",
       "      <th>Adj_Close</th>\n",
       "      <th>Volume</th>\n",
       "      <th>year</th>\n",
       "      <th>quarter</th>\n",
       "      <th>month</th>\n",
       "      <th>Daily_Return</th>\n",
       "    </tr>\n",
       "  </thead>\n",
       "  <tbody>\n",
       "    <tr>\n",
       "      <th>0</th>\n",
       "      <td>2000-03-30</td>\n",
       "      <td>72.724998</td>\n",
       "      <td>72.724998</td>\n",
       "      <td>72.724998</td>\n",
       "      <td>72.724998</td>\n",
       "      <td>38.694046</td>\n",
       "      <td>2.400000e+03</td>\n",
       "      <td>2000</td>\n",
       "      <td>1</td>\n",
       "      <td>3</td>\n",
       "      <td>NaN</td>\n",
       "    </tr>\n",
       "    <tr>\n",
       "      <th>1</th>\n",
       "      <td>2000-03-31</td>\n",
       "      <td>67.250000</td>\n",
       "      <td>67.250000</td>\n",
       "      <td>67.250000</td>\n",
       "      <td>67.250000</td>\n",
       "      <td>35.781017</td>\n",
       "      <td>1.070000e+04</td>\n",
       "      <td>2000</td>\n",
       "      <td>1</td>\n",
       "      <td>3</td>\n",
       "      <td>-0.075284</td>\n",
       "    </tr>\n",
       "    <tr>\n",
       "      <th>2</th>\n",
       "      <td>2000-04-03</td>\n",
       "      <td>763.114347</td>\n",
       "      <td>771.710160</td>\n",
       "      <td>753.971449</td>\n",
       "      <td>762.467262</td>\n",
       "      <td>727.924793</td>\n",
       "      <td>4.376110e+06</td>\n",
       "      <td>2000</td>\n",
       "      <td>2</td>\n",
       "      <td>4</td>\n",
       "      <td>19.343882</td>\n",
       "    </tr>\n",
       "    <tr>\n",
       "      <th>3</th>\n",
       "      <td>2000-04-04</td>\n",
       "      <td>763.114347</td>\n",
       "      <td>771.710160</td>\n",
       "      <td>753.971449</td>\n",
       "      <td>762.467262</td>\n",
       "      <td>727.924793</td>\n",
       "      <td>4.376110e+06</td>\n",
       "      <td>2000</td>\n",
       "      <td>2</td>\n",
       "      <td>4</td>\n",
       "      <td>0.000000</td>\n",
       "    </tr>\n",
       "    <tr>\n",
       "      <th>4</th>\n",
       "      <td>2000-04-05</td>\n",
       "      <td>74.750000</td>\n",
       "      <td>74.750000</td>\n",
       "      <td>74.750000</td>\n",
       "      <td>74.750000</td>\n",
       "      <td>39.771469</td>\n",
       "      <td>1.600000e+03</td>\n",
       "      <td>2000</td>\n",
       "      <td>2</td>\n",
       "      <td>4</td>\n",
       "      <td>-0.945363</td>\n",
       "    </tr>\n",
       "    <tr>\n",
       "      <th>...</th>\n",
       "      <td>...</td>\n",
       "      <td>...</td>\n",
       "      <td>...</td>\n",
       "      <td>...</td>\n",
       "      <td>...</td>\n",
       "      <td>...</td>\n",
       "      <td>...</td>\n",
       "      <td>...</td>\n",
       "      <td>...</td>\n",
       "      <td>...</td>\n",
       "      <td>...</td>\n",
       "    </tr>\n",
       "    <tr>\n",
       "      <th>5992</th>\n",
       "      <td>2024-03-21</td>\n",
       "      <td>2891.399902</td>\n",
       "      <td>2915.000000</td>\n",
       "      <td>2889.649902</td>\n",
       "      <td>2901.300049</td>\n",
       "      <td>2901.300049</td>\n",
       "      <td>7.709100e+04</td>\n",
       "      <td>2024</td>\n",
       "      <td>1</td>\n",
       "      <td>3</td>\n",
       "      <td>0.005023</td>\n",
       "    </tr>\n",
       "    <tr>\n",
       "      <th>5993</th>\n",
       "      <td>2024-03-22</td>\n",
       "      <td>2897.050049</td>\n",
       "      <td>2920.000000</td>\n",
       "      <td>2895.350098</td>\n",
       "      <td>2909.899902</td>\n",
       "      <td>2909.899902</td>\n",
       "      <td>5.624840e+05</td>\n",
       "      <td>2024</td>\n",
       "      <td>1</td>\n",
       "      <td>3</td>\n",
       "      <td>0.002964</td>\n",
       "    </tr>\n",
       "    <tr>\n",
       "      <th>5994</th>\n",
       "      <td>2024-03-26</td>\n",
       "      <td>2888.600098</td>\n",
       "      <td>2905.250000</td>\n",
       "      <td>2877.000000</td>\n",
       "      <td>2884.149902</td>\n",
       "      <td>2884.149902</td>\n",
       "      <td>9.438650e+05</td>\n",
       "      <td>2024</td>\n",
       "      <td>1</td>\n",
       "      <td>3</td>\n",
       "      <td>-0.008849</td>\n",
       "    </tr>\n",
       "    <tr>\n",
       "      <th>5995</th>\n",
       "      <td>2024-03-27</td>\n",
       "      <td>2899.649902</td>\n",
       "      <td>2999.899902</td>\n",
       "      <td>2897.899902</td>\n",
       "      <td>2987.850098</td>\n",
       "      <td>2987.850098</td>\n",
       "      <td>4.710250e+05</td>\n",
       "      <td>2024</td>\n",
       "      <td>1</td>\n",
       "      <td>3</td>\n",
       "      <td>0.035955</td>\n",
       "    </tr>\n",
       "    <tr>\n",
       "      <th>5996</th>\n",
       "      <td>2024-03-28</td>\n",
       "      <td>2994.350098</td>\n",
       "      <td>3011.250000</td>\n",
       "      <td>2959.000000</td>\n",
       "      <td>2976.800049</td>\n",
       "      <td>2976.800049</td>\n",
       "      <td>4.222630e+05</td>\n",
       "      <td>2024</td>\n",
       "      <td>1</td>\n",
       "      <td>3</td>\n",
       "      <td>-0.003698</td>\n",
       "    </tr>\n",
       "  </tbody>\n",
       "</table>\n",
       "<p>5997 rows × 11 columns</p>\n",
       "</div>"
      ],
      "text/plain": [
       "           Date         Open         High          Low        Close  \\\n",
       "0    2000-03-30    72.724998    72.724998    72.724998    72.724998   \n",
       "1    2000-03-31    67.250000    67.250000    67.250000    67.250000   \n",
       "2    2000-04-03   763.114347   771.710160   753.971449   762.467262   \n",
       "3    2000-04-04   763.114347   771.710160   753.971449   762.467262   \n",
       "4    2000-04-05    74.750000    74.750000    74.750000    74.750000   \n",
       "...         ...          ...          ...          ...          ...   \n",
       "5992 2024-03-21  2891.399902  2915.000000  2889.649902  2901.300049   \n",
       "5993 2024-03-22  2897.050049  2920.000000  2895.350098  2909.899902   \n",
       "5994 2024-03-26  2888.600098  2905.250000  2877.000000  2884.149902   \n",
       "5995 2024-03-27  2899.649902  2999.899902  2897.899902  2987.850098   \n",
       "5996 2024-03-28  2994.350098  3011.250000  2959.000000  2976.800049   \n",
       "\n",
       "        Adj_Close        Volume  year  quarter  month  Daily_Return  \n",
       "0       38.694046  2.400000e+03  2000        1      3           NaN  \n",
       "1       35.781017  1.070000e+04  2000        1      3     -0.075284  \n",
       "2      727.924793  4.376110e+06  2000        2      4     19.343882  \n",
       "3      727.924793  4.376110e+06  2000        2      4      0.000000  \n",
       "4       39.771469  1.600000e+03  2000        2      4     -0.945363  \n",
       "...           ...           ...   ...      ...    ...           ...  \n",
       "5992  2901.300049  7.709100e+04  2024        1      3      0.005023  \n",
       "5993  2909.899902  5.624840e+05  2024        1      3      0.002964  \n",
       "5994  2884.149902  9.438650e+05  2024        1      3     -0.008849  \n",
       "5995  2987.850098  4.710250e+05  2024        1      3      0.035955  \n",
       "5996  2976.800049  4.222630e+05  2024        1      3     -0.003698  \n",
       "\n",
       "[5997 rows x 11 columns]"
      ]
     },
     "execution_count": 29,
     "metadata": {},
     "output_type": "execute_result"
    }
   ],
   "source": [
    "df['Daily_Return'] = df['Adj_Close'].pct_change()\n",
    "df"
   ]
  },
  {
   "cell_type": "code",
   "execution_count": 30,
   "id": "996be966",
   "metadata": {
    "ExecuteTime": {
     "end_time": "2023-06-30T09:06:36.847608Z",
     "start_time": "2023-06-30T09:06:36.827253Z"
    }
   },
   "outputs": [
    {
     "data": {
      "text/plain": [
       "0.1341116004419897"
      ]
     },
     "execution_count": 30,
     "metadata": {},
     "output_type": "execute_result"
    }
   ],
   "source": [
    "mean_dr = np.mean(df['Daily_Return'])\n",
    "mean_dr #average of daily returns"
   ]
  },
  {
   "cell_type": "markdown",
   "id": "3076a6ef",
   "metadata": {},
   "source": [
    "###  Down Sampling"
   ]
  },
  {
   "cell_type": "markdown",
   "id": "af257993",
   "metadata": {},
   "source": [
    "**Making Date Column as Index**"
   ]
  },
  {
   "cell_type": "code",
   "execution_count": 31,
   "id": "efc2978d",
   "metadata": {
    "ExecuteTime": {
     "end_time": "2023-06-30T09:06:36.863040Z",
     "start_time": "2023-06-30T09:06:36.850578Z"
    },
    "scrolled": true
   },
   "outputs": [],
   "source": [
    "df.set_index('Date',inplace=True)"
   ]
  },
  {
   "cell_type": "code",
   "execution_count": 32,
   "id": "54a19af4",
   "metadata": {
    "ExecuteTime": {
     "end_time": "2023-06-30T09:06:36.894498Z",
     "start_time": "2023-06-30T09:06:36.866033Z"
    }
   },
   "outputs": [
    {
     "data": {
      "text/html": [
       "<div>\n",
       "<style scoped>\n",
       "    .dataframe tbody tr th:only-of-type {\n",
       "        vertical-align: middle;\n",
       "    }\n",
       "\n",
       "    .dataframe tbody tr th {\n",
       "        vertical-align: top;\n",
       "    }\n",
       "\n",
       "    .dataframe thead th {\n",
       "        text-align: right;\n",
       "    }\n",
       "</style>\n",
       "<table border=\"1\" class=\"dataframe\">\n",
       "  <thead>\n",
       "    <tr style=\"text-align: right;\">\n",
       "      <th></th>\n",
       "      <th>Open</th>\n",
       "      <th>High</th>\n",
       "      <th>Low</th>\n",
       "      <th>Close</th>\n",
       "      <th>Adj_Close</th>\n",
       "      <th>Volume</th>\n",
       "      <th>year</th>\n",
       "      <th>quarter</th>\n",
       "      <th>month</th>\n",
       "      <th>Daily_Return</th>\n",
       "    </tr>\n",
       "    <tr>\n",
       "      <th>Date</th>\n",
       "      <th></th>\n",
       "      <th></th>\n",
       "      <th></th>\n",
       "      <th></th>\n",
       "      <th></th>\n",
       "      <th></th>\n",
       "      <th></th>\n",
       "      <th></th>\n",
       "      <th></th>\n",
       "      <th></th>\n",
       "    </tr>\n",
       "  </thead>\n",
       "  <tbody>\n",
       "    <tr>\n",
       "      <th>2000-03-30</th>\n",
       "      <td>72.724998</td>\n",
       "      <td>72.724998</td>\n",
       "      <td>72.724998</td>\n",
       "      <td>72.724998</td>\n",
       "      <td>38.694046</td>\n",
       "      <td>2.400000e+03</td>\n",
       "      <td>2000</td>\n",
       "      <td>1</td>\n",
       "      <td>3</td>\n",
       "      <td>NaN</td>\n",
       "    </tr>\n",
       "    <tr>\n",
       "      <th>2000-03-31</th>\n",
       "      <td>67.250000</td>\n",
       "      <td>67.250000</td>\n",
       "      <td>67.250000</td>\n",
       "      <td>67.250000</td>\n",
       "      <td>35.781017</td>\n",
       "      <td>1.070000e+04</td>\n",
       "      <td>2000</td>\n",
       "      <td>1</td>\n",
       "      <td>3</td>\n",
       "      <td>-0.075284</td>\n",
       "    </tr>\n",
       "    <tr>\n",
       "      <th>2000-04-03</th>\n",
       "      <td>763.114347</td>\n",
       "      <td>771.710160</td>\n",
       "      <td>753.971449</td>\n",
       "      <td>762.467262</td>\n",
       "      <td>727.924793</td>\n",
       "      <td>4.376110e+06</td>\n",
       "      <td>2000</td>\n",
       "      <td>2</td>\n",
       "      <td>4</td>\n",
       "      <td>19.343882</td>\n",
       "    </tr>\n",
       "    <tr>\n",
       "      <th>2000-04-04</th>\n",
       "      <td>763.114347</td>\n",
       "      <td>771.710160</td>\n",
       "      <td>753.971449</td>\n",
       "      <td>762.467262</td>\n",
       "      <td>727.924793</td>\n",
       "      <td>4.376110e+06</td>\n",
       "      <td>2000</td>\n",
       "      <td>2</td>\n",
       "      <td>4</td>\n",
       "      <td>0.000000</td>\n",
       "    </tr>\n",
       "    <tr>\n",
       "      <th>2000-04-05</th>\n",
       "      <td>74.750000</td>\n",
       "      <td>74.750000</td>\n",
       "      <td>74.750000</td>\n",
       "      <td>74.750000</td>\n",
       "      <td>39.771469</td>\n",
       "      <td>1.600000e+03</td>\n",
       "      <td>2000</td>\n",
       "      <td>2</td>\n",
       "      <td>4</td>\n",
       "      <td>-0.945363</td>\n",
       "    </tr>\n",
       "    <tr>\n",
       "      <th>...</th>\n",
       "      <td>...</td>\n",
       "      <td>...</td>\n",
       "      <td>...</td>\n",
       "      <td>...</td>\n",
       "      <td>...</td>\n",
       "      <td>...</td>\n",
       "      <td>...</td>\n",
       "      <td>...</td>\n",
       "      <td>...</td>\n",
       "      <td>...</td>\n",
       "    </tr>\n",
       "    <tr>\n",
       "      <th>2024-03-21</th>\n",
       "      <td>2891.399902</td>\n",
       "      <td>2915.000000</td>\n",
       "      <td>2889.649902</td>\n",
       "      <td>2901.300049</td>\n",
       "      <td>2901.300049</td>\n",
       "      <td>7.709100e+04</td>\n",
       "      <td>2024</td>\n",
       "      <td>1</td>\n",
       "      <td>3</td>\n",
       "      <td>0.005023</td>\n",
       "    </tr>\n",
       "    <tr>\n",
       "      <th>2024-03-22</th>\n",
       "      <td>2897.050049</td>\n",
       "      <td>2920.000000</td>\n",
       "      <td>2895.350098</td>\n",
       "      <td>2909.899902</td>\n",
       "      <td>2909.899902</td>\n",
       "      <td>5.624840e+05</td>\n",
       "      <td>2024</td>\n",
       "      <td>1</td>\n",
       "      <td>3</td>\n",
       "      <td>0.002964</td>\n",
       "    </tr>\n",
       "    <tr>\n",
       "      <th>2024-03-26</th>\n",
       "      <td>2888.600098</td>\n",
       "      <td>2905.250000</td>\n",
       "      <td>2877.000000</td>\n",
       "      <td>2884.149902</td>\n",
       "      <td>2884.149902</td>\n",
       "      <td>9.438650e+05</td>\n",
       "      <td>2024</td>\n",
       "      <td>1</td>\n",
       "      <td>3</td>\n",
       "      <td>-0.008849</td>\n",
       "    </tr>\n",
       "    <tr>\n",
       "      <th>2024-03-27</th>\n",
       "      <td>2899.649902</td>\n",
       "      <td>2999.899902</td>\n",
       "      <td>2897.899902</td>\n",
       "      <td>2987.850098</td>\n",
       "      <td>2987.850098</td>\n",
       "      <td>4.710250e+05</td>\n",
       "      <td>2024</td>\n",
       "      <td>1</td>\n",
       "      <td>3</td>\n",
       "      <td>0.035955</td>\n",
       "    </tr>\n",
       "    <tr>\n",
       "      <th>2024-03-28</th>\n",
       "      <td>2994.350098</td>\n",
       "      <td>3011.250000</td>\n",
       "      <td>2959.000000</td>\n",
       "      <td>2976.800049</td>\n",
       "      <td>2976.800049</td>\n",
       "      <td>4.222630e+05</td>\n",
       "      <td>2024</td>\n",
       "      <td>1</td>\n",
       "      <td>3</td>\n",
       "      <td>-0.003698</td>\n",
       "    </tr>\n",
       "  </tbody>\n",
       "</table>\n",
       "<p>5997 rows × 10 columns</p>\n",
       "</div>"
      ],
      "text/plain": [
       "                   Open         High          Low        Close    Adj_Close  \\\n",
       "Date                                                                          \n",
       "2000-03-30    72.724998    72.724998    72.724998    72.724998    38.694046   \n",
       "2000-03-31    67.250000    67.250000    67.250000    67.250000    35.781017   \n",
       "2000-04-03   763.114347   771.710160   753.971449   762.467262   727.924793   \n",
       "2000-04-04   763.114347   771.710160   753.971449   762.467262   727.924793   \n",
       "2000-04-05    74.750000    74.750000    74.750000    74.750000    39.771469   \n",
       "...                 ...          ...          ...          ...          ...   \n",
       "2024-03-21  2891.399902  2915.000000  2889.649902  2901.300049  2901.300049   \n",
       "2024-03-22  2897.050049  2920.000000  2895.350098  2909.899902  2909.899902   \n",
       "2024-03-26  2888.600098  2905.250000  2877.000000  2884.149902  2884.149902   \n",
       "2024-03-27  2899.649902  2999.899902  2897.899902  2987.850098  2987.850098   \n",
       "2024-03-28  2994.350098  3011.250000  2959.000000  2976.800049  2976.800049   \n",
       "\n",
       "                  Volume  year  quarter  month  Daily_Return  \n",
       "Date                                                          \n",
       "2000-03-30  2.400000e+03  2000        1      3           NaN  \n",
       "2000-03-31  1.070000e+04  2000        1      3     -0.075284  \n",
       "2000-04-03  4.376110e+06  2000        2      4     19.343882  \n",
       "2000-04-04  4.376110e+06  2000        2      4      0.000000  \n",
       "2000-04-05  1.600000e+03  2000        2      4     -0.945363  \n",
       "...                  ...   ...      ...    ...           ...  \n",
       "2024-03-21  7.709100e+04  2024        1      3      0.005023  \n",
       "2024-03-22  5.624840e+05  2024        1      3      0.002964  \n",
       "2024-03-26  9.438650e+05  2024        1      3     -0.008849  \n",
       "2024-03-27  4.710250e+05  2024        1      3      0.035955  \n",
       "2024-03-28  4.222630e+05  2024        1      3     -0.003698  \n",
       "\n",
       "[5997 rows x 10 columns]"
      ]
     },
     "execution_count": 32,
     "metadata": {},
     "output_type": "execute_result"
    }
   ],
   "source": [
    "df"
   ]
  },
  {
   "cell_type": "markdown",
   "id": "ab0de57f",
   "metadata": {},
   "source": [
    "**Downsampling the Date wise Data into Quarterly wise for better understanding and better model building**"
   ]
  },
  {
   "cell_type": "code",
   "execution_count": 33,
   "id": "c34447af",
   "metadata": {
    "ExecuteTime": {
     "end_time": "2023-06-30T09:06:36.956943Z",
     "start_time": "2023-06-30T09:06:36.896696Z"
    }
   },
   "outputs": [
    {
     "data": {
      "text/html": [
       "<div>\n",
       "<style scoped>\n",
       "    .dataframe tbody tr th:only-of-type {\n",
       "        vertical-align: middle;\n",
       "    }\n",
       "\n",
       "    .dataframe tbody tr th {\n",
       "        vertical-align: top;\n",
       "    }\n",
       "\n",
       "    .dataframe thead th {\n",
       "        text-align: right;\n",
       "    }\n",
       "</style>\n",
       "<table border=\"1\" class=\"dataframe\">\n",
       "  <thead>\n",
       "    <tr style=\"text-align: right;\">\n",
       "      <th></th>\n",
       "      <th>Open</th>\n",
       "      <th>High</th>\n",
       "      <th>Low</th>\n",
       "      <th>Close</th>\n",
       "      <th>Adj_Close</th>\n",
       "      <th>Volume</th>\n",
       "      <th>year</th>\n",
       "      <th>quarter</th>\n",
       "      <th>month</th>\n",
       "      <th>Daily_Return</th>\n",
       "    </tr>\n",
       "    <tr>\n",
       "      <th>Date</th>\n",
       "      <th></th>\n",
       "      <th></th>\n",
       "      <th></th>\n",
       "      <th></th>\n",
       "      <th></th>\n",
       "      <th></th>\n",
       "      <th></th>\n",
       "      <th></th>\n",
       "      <th></th>\n",
       "      <th></th>\n",
       "    </tr>\n",
       "  </thead>\n",
       "  <tbody>\n",
       "    <tr>\n",
       "      <th>2000-03-31</th>\n",
       "      <td>69.987499</td>\n",
       "      <td>69.987499</td>\n",
       "      <td>69.987499</td>\n",
       "      <td>69.987499</td>\n",
       "      <td>37.237532</td>\n",
       "      <td>6.550000e+03</td>\n",
       "      <td>2000.0</td>\n",
       "      <td>1.0</td>\n",
       "      <td>3.000000</td>\n",
       "      <td>-0.075284</td>\n",
       "    </tr>\n",
       "    <tr>\n",
       "      <th>2000-06-30</th>\n",
       "      <td>658.854255</td>\n",
       "      <td>666.127636</td>\n",
       "      <td>651.117957</td>\n",
       "      <td>658.306721</td>\n",
       "      <td>622.928755</td>\n",
       "      <td>3.705269e+06</td>\n",
       "      <td>2000.0</td>\n",
       "      <td>2.0</td>\n",
       "      <td>5.030769</td>\n",
       "      <td>2.264735</td>\n",
       "    </tr>\n",
       "    <tr>\n",
       "      <th>2000-09-30</th>\n",
       "      <td>554.894740</td>\n",
       "      <td>560.845688</td>\n",
       "      <td>548.565042</td>\n",
       "      <td>554.446758</td>\n",
       "      <td>518.092640</td>\n",
       "      <td>5.936609e+06</td>\n",
       "      <td>2000.0</td>\n",
       "      <td>3.0</td>\n",
       "      <td>8.000000</td>\n",
       "      <td>1.715308</td>\n",
       "    </tr>\n",
       "    <tr>\n",
       "      <th>2000-12-31</th>\n",
       "      <td>101.666018</td>\n",
       "      <td>101.930505</td>\n",
       "      <td>101.384698</td>\n",
       "      <td>101.646108</td>\n",
       "      <td>63.997086</td>\n",
       "      <td>1.389459e+07</td>\n",
       "      <td>2000.0</td>\n",
       "      <td>4.0</td>\n",
       "      <td>10.984615</td>\n",
       "      <td>0.435220</td>\n",
       "    </tr>\n",
       "    <tr>\n",
       "      <th>2001-03-31</th>\n",
       "      <td>118.009672</td>\n",
       "      <td>118.274159</td>\n",
       "      <td>117.728353</td>\n",
       "      <td>117.989762</td>\n",
       "      <td>72.692887</td>\n",
       "      <td>2.137032e+07</td>\n",
       "      <td>2001.0</td>\n",
       "      <td>1.0</td>\n",
       "      <td>1.984615</td>\n",
       "      <td>0.369491</td>\n",
       "    </tr>\n",
       "    <tr>\n",
       "      <th>...</th>\n",
       "      <td>...</td>\n",
       "      <td>...</td>\n",
       "      <td>...</td>\n",
       "      <td>...</td>\n",
       "      <td>...</td>\n",
       "      <td>...</td>\n",
       "      <td>...</td>\n",
       "      <td>...</td>\n",
       "      <td>...</td>\n",
       "      <td>...</td>\n",
       "    </tr>\n",
       "    <tr>\n",
       "      <th>2023-03-31</th>\n",
       "      <td>2383.557251</td>\n",
       "      <td>2399.730642</td>\n",
       "      <td>2356.349999</td>\n",
       "      <td>2375.707268</td>\n",
       "      <td>2367.344341</td>\n",
       "      <td>2.463628e+05</td>\n",
       "      <td>2023.0</td>\n",
       "      <td>1.0</td>\n",
       "      <td>2.000000</td>\n",
       "      <td>-0.001342</td>\n",
       "    </tr>\n",
       "    <tr>\n",
       "      <th>2023-06-30</th>\n",
       "      <td>2394.368826</td>\n",
       "      <td>2409.078665</td>\n",
       "      <td>2378.147392</td>\n",
       "      <td>2393.632254</td>\n",
       "      <td>2384.144275</td>\n",
       "      <td>2.958529e+05</td>\n",
       "      <td>2023.0</td>\n",
       "      <td>2.0</td>\n",
       "      <td>5.066667</td>\n",
       "      <td>0.057820</td>\n",
       "    </tr>\n",
       "    <tr>\n",
       "      <th>2023-09-30</th>\n",
       "      <td>2135.861691</td>\n",
       "      <td>2154.229859</td>\n",
       "      <td>2117.493326</td>\n",
       "      <td>2135.226569</td>\n",
       "      <td>2125.064121</td>\n",
       "      <td>1.230341e+06</td>\n",
       "      <td>2023.0</td>\n",
       "      <td>3.0</td>\n",
       "      <td>7.984127</td>\n",
       "      <td>0.176493</td>\n",
       "    </tr>\n",
       "    <tr>\n",
       "      <th>2023-12-31</th>\n",
       "      <td>2385.684977</td>\n",
       "      <td>2400.935828</td>\n",
       "      <td>2372.102498</td>\n",
       "      <td>2386.181673</td>\n",
       "      <td>2386.181673</td>\n",
       "      <td>6.595542e+05</td>\n",
       "      <td>2023.0</td>\n",
       "      <td>4.0</td>\n",
       "      <td>11.000000</td>\n",
       "      <td>0.001652</td>\n",
       "    </tr>\n",
       "    <tr>\n",
       "      <th>2024-03-31</th>\n",
       "      <td>2807.942722</td>\n",
       "      <td>2838.621825</td>\n",
       "      <td>2784.301188</td>\n",
       "      <td>2812.386124</td>\n",
       "      <td>2811.810416</td>\n",
       "      <td>3.643175e+05</td>\n",
       "      <td>2024.0</td>\n",
       "      <td>1.0</td>\n",
       "      <td>1.950000</td>\n",
       "      <td>0.036143</td>\n",
       "    </tr>\n",
       "  </tbody>\n",
       "</table>\n",
       "<p>97 rows × 10 columns</p>\n",
       "</div>"
      ],
      "text/plain": [
       "                   Open         High          Low        Close    Adj_Close  \\\n",
       "Date                                                                          \n",
       "2000-03-31    69.987499    69.987499    69.987499    69.987499    37.237532   \n",
       "2000-06-30   658.854255   666.127636   651.117957   658.306721   622.928755   \n",
       "2000-09-30   554.894740   560.845688   548.565042   554.446758   518.092640   \n",
       "2000-12-31   101.666018   101.930505   101.384698   101.646108    63.997086   \n",
       "2001-03-31   118.009672   118.274159   117.728353   117.989762    72.692887   \n",
       "...                 ...          ...          ...          ...          ...   \n",
       "2023-03-31  2383.557251  2399.730642  2356.349999  2375.707268  2367.344341   \n",
       "2023-06-30  2394.368826  2409.078665  2378.147392  2393.632254  2384.144275   \n",
       "2023-09-30  2135.861691  2154.229859  2117.493326  2135.226569  2125.064121   \n",
       "2023-12-31  2385.684977  2400.935828  2372.102498  2386.181673  2386.181673   \n",
       "2024-03-31  2807.942722  2838.621825  2784.301188  2812.386124  2811.810416   \n",
       "\n",
       "                  Volume    year  quarter      month  Daily_Return  \n",
       "Date                                                                \n",
       "2000-03-31  6.550000e+03  2000.0      1.0   3.000000     -0.075284  \n",
       "2000-06-30  3.705269e+06  2000.0      2.0   5.030769      2.264735  \n",
       "2000-09-30  5.936609e+06  2000.0      3.0   8.000000      1.715308  \n",
       "2000-12-31  1.389459e+07  2000.0      4.0  10.984615      0.435220  \n",
       "2001-03-31  2.137032e+07  2001.0      1.0   1.984615      0.369491  \n",
       "...                  ...     ...      ...        ...           ...  \n",
       "2023-03-31  2.463628e+05  2023.0      1.0   2.000000     -0.001342  \n",
       "2023-06-30  2.958529e+05  2023.0      2.0   5.066667      0.057820  \n",
       "2023-09-30  1.230341e+06  2023.0      3.0   7.984127      0.176493  \n",
       "2023-12-31  6.595542e+05  2023.0      4.0  11.000000      0.001652  \n",
       "2024-03-31  3.643175e+05  2024.0      1.0   1.950000      0.036143  \n",
       "\n",
       "[97 rows x 10 columns]"
      ]
     },
     "execution_count": 33,
     "metadata": {},
     "output_type": "execute_result"
    }
   ],
   "source": [
    "Quarterlydata = df.resample('Q').mean()\n",
    "Quarterlydata"
   ]
  },
  {
   "cell_type": "markdown",
   "id": "952fd7e9",
   "metadata": {},
   "source": [
    "## Model Building "
   ]
  },
  {
   "cell_type": "markdown",
   "id": "28000cbb",
   "metadata": {},
   "source": [
    "### Splitting Data \n",
    " Here splitting data in the **ratio of 80:20** for Training and Testing respectively"
   ]
  },
  {
   "cell_type": "code",
   "execution_count": 34,
   "id": "ab4f1162",
   "metadata": {
    "ExecuteTime": {
     "end_time": "2023-06-30T09:06:36.972225Z",
     "start_time": "2023-06-30T09:06:36.959469Z"
    }
   },
   "outputs": [],
   "source": [
    "Train = Quarterlydata.head(73)\n",
    "Test = Quarterlydata.tail(19) "
   ]
  },
  {
   "cell_type": "markdown",
   "id": "f68c9efb",
   "metadata": {},
   "source": [
    "### Data Driven Forecasting Methods\n",
    "Under Data Driven Forcasting Methods we use \n",
    "1. Moving Average Method\n",
    "2. Simple Exponential Smoothing Technique\n",
    "3. Advance Exponential Smoothing Techniques --> a) Holt's Method\n",
    "   b) Holt's Winter Method\n",
    "   "
   ]
  },
  {
   "cell_type": "code",
   "execution_count": 35,
   "id": "aa36a1ad",
   "metadata": {
    "ExecuteTime": {
     "end_time": "2023-06-30T09:06:37.269054Z",
     "start_time": "2023-06-30T09:06:36.975799Z"
    }
   },
   "outputs": [],
   "source": [
    "#Importing Data driven forecasting methods libraries\n",
    "from statsmodels.tsa.seasonal import seasonal_decompose #Seasonal Decompose library to know the trend, seasonality and resid\n",
    "from statsmodels.tsa.holtwinters import SimpleExpSmoothing # SES\n",
    "from statsmodels.tsa.holtwinters import Holt # Holts Exponential Smoothing\n",
    "from statsmodels.tsa.holtwinters import ExponentialSmoothing "
   ]
  },
  {
   "cell_type": "markdown",
   "id": "d94ba90e",
   "metadata": {},
   "source": [
    "### Moving average Method"
   ]
  },
  {
   "cell_type": "code",
   "execution_count": 36,
   "id": "bc808c53",
   "metadata": {
    "ExecuteTime": {
     "end_time": "2023-06-30T09:06:38.283901Z",
     "start_time": "2023-06-30T09:06:37.274045Z"
    },
    "scrolled": true
   },
   "outputs": [
    {
     "data": {
      "text/plain": [
       "<matplotlib.legend.Legend at 0x17ca422d110>"
      ]
     },
     "execution_count": 36,
     "metadata": {},
     "output_type": "execute_result"
    },
    {
     "data": {
      "image/png": "[encoded data removed]",
      "text/plain": [
       "<Figure size 1200x400 with 1 Axes>"
      ]
     },
     "metadata": {},
     "output_type": "display_data"
    }
   ],
   "source": [
    "plt.figure(figsize=(12,4))\n",
    "df.Adj_Close.plot(label=\"org\")\n",
    "for i in range(2,24,6):#range from 2 to 24  with step size of 6\n",
    "    df[\"Adj_Close\"].rolling(i).mean().plot(label=str(i)) \n",
    "plt.legend(loc='best') "
   ]
  },
  {
   "cell_type": "markdown",
   "id": "d17276ce",
   "metadata": {},
   "source": [
    "### Time series decomposition plot "
   ]
  },
  {
   "cell_type": "code",
   "execution_count": 37,
   "id": "225b1409",
   "metadata": {
    "ExecuteTime": {
     "end_time": "2023-06-30T09:06:39.176145Z",
     "start_time": "2023-06-30T09:06:38.288464Z"
    }
   },
   "outputs": [
    {
     "data": {
      "image/png": "[encoded data removed]",
      "text/plain": [
       "<Figure size 640x480 with 4 Axes>"
      ]
     },
     "metadata": {},
     "output_type": "display_data"
    }
   ],
   "source": [
    "decompose_ts_add = seasonal_decompose(df.Adj_Close,period=52)\n",
    "decompose_ts_add.plot()\n",
    "plt.show()"
   ]
  },
  {
   "cell_type": "markdown",
   "id": "22998e99",
   "metadata": {},
   "source": [
    "To Calcute the **Mean Absolute Percentage Error** we will define a function "
   ]
  },
  {
   "cell_type": "code",
   "execution_count": 38,
   "id": "f2625e5c",
   "metadata": {
    "ExecuteTime": {
     "end_time": "2023-06-30T09:06:39.191477Z",
     "start_time": "2023-06-30T09:06:39.180747Z"
    }
   },
   "outputs": [],
   "source": [
    "def MAPE(pred,org): #mean absolute percentage error\n",
    "    temp = np.abs((pred-org)/org)*100 #mape function = prediction value-orginal value for error(e),by orginal value *100 for percentage(p),.abs for absolute\n",
    "    return np.mean(temp)  #and taking mean of it toget MAPE"
   ]
  },
  {
   "cell_type": "markdown",
   "id": "cc617b59",
   "metadata": {},
   "source": [
    "To Calculate the **Root Mean Square Error** we will define a function"
   ]
  },
  {
   "cell_type": "code",
   "execution_count": 39,
   "id": "0319c732",
   "metadata": {
    "ExecuteTime": {
     "end_time": "2023-06-30T09:06:39.206679Z",
     "start_time": "2023-06-30T09:06:39.193448Z"
    }
   },
   "outputs": [],
   "source": [
    "def RMSE(org, pred):\n",
    "    rmse=np.sqrt(np.mean((np.array(org)-np.array(pred))**2))\n",
    "    return rmse"
   ]
  },
  {
   "cell_type": "markdown",
   "id": "441533ce",
   "metadata": {},
   "source": [
    "### Simple Exponential Method"
   ]
  },
  {
   "cell_type": "code",
   "execution_count": 40,
   "id": "2374630f",
   "metadata": {
    "ExecuteTime": {
     "end_time": "2023-06-30T09:06:39.237603Z",
     "start_time": "2023-06-30T09:06:39.209543Z"
    }
   },
   "outputs": [
    {
     "name": "stdout",
     "output_type": "stream",
     "text": [
      "MAPE Value for SES =  65.41622167477469\n",
      "RMSE Value for SES =  1495.9107631312843\n"
     ]
    },
    {
     "name": "stderr",
     "output_type": "stream",
     "text": [
      "C:\\Users\\vaio\\anaconda3\\Lib\\site-packages\\pandas\\util\\_decorators.py:213: EstimationWarning: Model has no free parameters to estimate. Set optimized=False to suppress this warning\n",
      "  return func(*args, **kwargs)\n"
     ]
    }
   ],
   "source": [
    "Train[\"Adj_Close\"] = Train[\"Adj_Close\"].astype('double') \n",
    "ses_model = SimpleExpSmoothing(Train[\"Adj_Close\"]).fit(smoothing_level=0.2)\n",
    "pred_ses = ses_model.predict(start = Test.index[0],end = Test.index[-1])\n",
    "mape_ses_model=MAPE(pred_ses,Test.Adj_Close)   \n",
    "rmse_ses_model=RMSE(Test.Adj_Close, pred_ses)\n",
    "print(\"MAPE Value for SES = \" ,mape_ses_model)\n",
    "print(\"RMSE Value for SES = \" ,rmse_ses_model)"
   ]
  },
  {
   "cell_type": "markdown",
   "id": "286d65f6",
   "metadata": {},
   "source": [
    "### Holt method "
   ]
  },
  {
   "cell_type": "code",
   "execution_count": 41,
   "id": "12462c0a",
   "metadata": {
    "ExecuteTime": {
     "end_time": "2023-06-30T09:06:39.268071Z",
     "start_time": "2023-06-30T09:06:39.241629Z"
    }
   },
   "outputs": [
    {
     "name": "stdout",
     "output_type": "stream",
     "text": [
      "MAPE Value for Holt = 15.55287905056216\n",
      "RMSE Value for Holt = 418.6722430770537\n"
     ]
    },
    {
     "name": "stderr",
     "output_type": "stream",
     "text": [
      "C:\\Users\\vaio\\anaconda3\\Lib\\site-packages\\pandas\\util\\_decorators.py:213: EstimationWarning: Model has no free parameters to estimate. Set optimized=False to suppress this warning\n",
      "  return func(*args, **kwargs)\n"
     ]
    }
   ],
   "source": [
    "hw_model = Holt(Train[\"Adj_Close\"]).fit(smoothing_level=0.8, smoothing_slope=0.2)\n",
    "pred_hw = hw_model.predict(start = Test.index[0],end = Test.index[-1])\n",
    "mape_hw_model=MAPE(pred_hw,Test.Adj_Close) \n",
    "rmse_hw_model=RMSE(Test.Adj_Close, pred_hw)\n",
    "print(\"MAPE Value for Holt =\" ,mape_hw_model)\n",
    "print(\"RMSE Value for Holt =\" ,rmse_hw_model)"
   ]
  },
  {
   "cell_type": "markdown",
   "id": "42e9ee4a",
   "metadata": {},
   "source": [
    "### Holts winter exponential smoothing method"
   ]
  },
  {
   "cell_type": "code",
   "execution_count": 42,
   "id": "17801eb5",
   "metadata": {
    "ExecuteTime": {
     "end_time": "2023-06-30T09:06:39.313758Z",
     "start_time": "2023-06-30T09:06:39.270575Z"
    }
   },
   "outputs": [
    {
     "name": "stdout",
     "output_type": "stream",
     "text": [
      "MAPE Value for Holt Winter Exponential = 54.676552336844466\n",
      "RMSE Value for Holt Winter Exponential = 1290.9832840566169\n"
     ]
    }
   ],
   "source": [
    "hwe_model = ExponentialSmoothing(Train[\"Adj_Close\"]).fit() #add the trend to the model\n",
    "pred_hwe = hwe_model.predict(start = Test.index[0],end = Test.index[-1])\n",
    "mape_hwe_model=MAPE(pred_hwe,Test.Adj_Close)\n",
    "rmse_hwe_model=RMSE(Test.Adj_Close, pred_hwe)\n",
    "print(\"MAPE Value for Holt Winter Exponential =\" ,mape_hwe_model)\n",
    "print(\"RMSE Value for Holt Winter Exponential =\" ,rmse_hwe_model)"
   ]
  },
  {
   "cell_type": "markdown",
   "id": "01205d6e",
   "metadata": {},
   "source": [
    "### Holts winter exponential smoothing with additive seasonality and additive trend"
   ]
  },
  {
   "cell_type": "code",
   "execution_count": 43,
   "id": "7d460690",
   "metadata": {
    "ExecuteTime": {
     "end_time": "2023-06-30T09:06:39.654139Z",
     "start_time": "2023-06-30T09:06:39.315932Z"
    }
   },
   "outputs": [
    {
     "name": "stdout",
     "output_type": "stream",
     "text": [
      "MAPE Value for Holt Winter Exponential = 36.33234753685421\n",
      "RMSE Value for Holt Winter Exponential = 889.2853677515311\n"
     ]
    }
   ],
   "source": [
    "hwe_model_add_add = ExponentialSmoothing(Train[\"Adj_Close\"],seasonal=\"add\",trend=\"add\",seasonal_periods=12).fit() #add the trend to the model\n",
    "pred_hwe_add_add = hwe_model_add_add.predict(start = Test.index[0],end = Test.index[-1])\n",
    "mape_hwe_model_add_add=MAPE(pred_hwe_add_add,Test.Adj_Close)  \n",
    "rmse_hwe_model_add_add=RMSE(Test.Adj_Close, pred_hwe_add_add)\n",
    "print(\"MAPE Value for Holt Winter Exponential =\" ,mape_hwe_model_add_add)\n",
    "print(\"RMSE Value for Holt Winter Exponential =\" ,rmse_hwe_model_add_add)"
   ]
  },
  {
   "cell_type": "markdown",
   "id": "6c683147",
   "metadata": {},
   "source": [
    "### Holts winter exponential smoothing with multiplicative seasonality and additive trend"
   ]
  },
  {
   "cell_type": "code",
   "execution_count": 44,
   "id": "71cf4b04",
   "metadata": {
    "ExecuteTime": {
     "end_time": "2023-06-30T09:06:40.104405Z",
     "start_time": "2023-06-30T09:06:39.658130Z"
    }
   },
   "outputs": [
    {
     "name": "stdout",
     "output_type": "stream",
     "text": [
      "MAPE Value for Holt Winter Exponential = 42.68264864207561\n",
      "RMSE Value for Holt Winter Exponential = 1030.9354871934806\n"
     ]
    }
   ],
   "source": [
    "hwe_model_mul_add = ExponentialSmoothing(Train[\"Adj_Close\"],seasonal=\"mul\",trend=\"add\",seasonal_periods=12).fit() \n",
    "pred_hwe_mul_add = hwe_model_mul_add.predict(start = Test.index[0],end = Test.index[-1])\n",
    "mape_hwe_model_mul_add=MAPE(pred_hwe_mul_add,Test.Adj_Close) \n",
    "rmse_hwe_model_mul_add=RMSE(Test.Adj_Close, pred_hwe_mul_add)\n",
    "print(\"MAPE Value for Holt Winter Exponential =\" ,mape_hwe_model_mul_add)\n",
    "print(\"RMSE Value for Holt Winter Exponential =\" ,rmse_hwe_model_mul_add)"
   ]
  },
  {
   "cell_type": "code",
   "execution_count": 45,
   "id": "8723d74c",
   "metadata": {
    "ExecuteTime": {
     "end_time": "2023-06-30T09:06:40.135025Z",
     "start_time": "2023-06-30T09:06:40.105724Z"
    }
   },
   "outputs": [
    {
     "data": {
      "text/html": [
       "<div>\n",
       "<style scoped>\n",
       "    .dataframe tbody tr th:only-of-type {\n",
       "        vertical-align: middle;\n",
       "    }\n",
       "\n",
       "    .dataframe tbody tr th {\n",
       "        vertical-align: top;\n",
       "    }\n",
       "\n",
       "    .dataframe thead th {\n",
       "        text-align: right;\n",
       "    }\n",
       "</style>\n",
       "<table border=\"1\" class=\"dataframe\">\n",
       "  <thead>\n",
       "    <tr style=\"text-align: right;\">\n",
       "      <th></th>\n",
       "      <th>MODEL</th>\n",
       "      <th>MAPE_Values</th>\n",
       "      <th>RMSE_Values</th>\n",
       "    </tr>\n",
       "  </thead>\n",
       "  <tbody>\n",
       "    <tr>\n",
       "      <th>1</th>\n",
       "      <td>holt_model</td>\n",
       "      <td>15.552879</td>\n",
       "      <td>418.672243</td>\n",
       "    </tr>\n",
       "    <tr>\n",
       "      <th>3</th>\n",
       "      <td>holtw_add_add_model</td>\n",
       "      <td>36.332348</td>\n",
       "      <td>889.285368</td>\n",
       "    </tr>\n",
       "    <tr>\n",
       "      <th>4</th>\n",
       "      <td>holtw_mult_add_model</td>\n",
       "      <td>42.682649</td>\n",
       "      <td>1030.935487</td>\n",
       "    </tr>\n",
       "    <tr>\n",
       "      <th>2</th>\n",
       "      <td>holt_winter_model</td>\n",
       "      <td>54.676552</td>\n",
       "      <td>1290.983284</td>\n",
       "    </tr>\n",
       "    <tr>\n",
       "      <th>0</th>\n",
       "      <td>ses_model</td>\n",
       "      <td>65.416222</td>\n",
       "      <td>1495.910763</td>\n",
       "    </tr>\n",
       "  </tbody>\n",
       "</table>\n",
       "</div>"
      ],
      "text/plain": [
       "                  MODEL  MAPE_Values  RMSE_Values\n",
       "1            holt_model    15.552879   418.672243\n",
       "3   holtw_add_add_model    36.332348   889.285368\n",
       "4  holtw_mult_add_model    42.682649  1030.935487\n",
       "2     holt_winter_model    54.676552  1290.983284\n",
       "0             ses_model    65.416222  1495.910763"
      ]
     },
     "execution_count": 45,
     "metadata": {},
     "output_type": "execute_result"
    }
   ],
   "source": [
    "#Compare the results \n",
    "\n",
    "data = {\"MODEL\":pd.Series([\"ses_model\",\"holt_model\",\"holt_winter_model\",\"holtw_add_add_model\",\"holtw_mult_add_model\"]),\n",
    "        \"MAPE_Values\":pd.Series([mape_ses_model,mape_hw_model,mape_hwe_model,mape_hwe_model_add_add,mape_hwe_model_mul_add]),\n",
    "        \"RMSE_Values\":pd.Series([rmse_ses_model,rmse_hw_model,rmse_hwe_model,rmse_hwe_model_add_add,rmse_hwe_model_mul_add])}\n",
    "table_data_driven=pd.DataFrame(data)\n",
    "table_data_driven.sort_values(['RMSE_Values','MAPE_Values'],ascending = [True, True]) "
   ]
  },
  {
   "cell_type": "markdown",
   "id": "8eb1c933",
   "metadata": {},
   "source": [
    "## Model based Forecasting Methods"
   ]
  },
  {
   "cell_type": "code",
   "execution_count": 47,
   "id": "3b353aab",
   "metadata": {
    "ExecuteTime": {
     "end_time": "2023-06-30T09:06:40.197595Z",
     "start_time": "2023-06-30T09:06:40.137077Z"
    }
   },
   "outputs": [
    {
     "data": {
      "text/html": [
       "<div>\n",
       "<style scoped>\n",
       "    .dataframe tbody tr th:only-of-type {\n",
       "        vertical-align: middle;\n",
       "    }\n",
       "\n",
       "    .dataframe tbody tr th {\n",
       "        vertical-align: top;\n",
       "    }\n",
       "\n",
       "    .dataframe thead th {\n",
       "        text-align: right;\n",
       "    }\n",
       "</style>\n",
       "<table border=\"1\" class=\"dataframe\">\n",
       "  <thead>\n",
       "    <tr style=\"text-align: right;\">\n",
       "      <th></th>\n",
       "      <th>Open</th>\n",
       "      <th>High</th>\n",
       "      <th>Low</th>\n",
       "      <th>Close</th>\n",
       "      <th>Adj_Close</th>\n",
       "      <th>Volume</th>\n",
       "      <th>year</th>\n",
       "      <th>quarter</th>\n",
       "      <th>month</th>\n",
       "      <th>Daily_Return</th>\n",
       "      <th>t</th>\n",
       "      <th>t_squared</th>\n",
       "      <th>log_Adj_Close</th>\n",
       "    </tr>\n",
       "    <tr>\n",
       "      <th>Date</th>\n",
       "      <th></th>\n",
       "      <th></th>\n",
       "      <th></th>\n",
       "      <th></th>\n",
       "      <th></th>\n",
       "      <th></th>\n",
       "      <th></th>\n",
       "      <th></th>\n",
       "      <th></th>\n",
       "      <th></th>\n",
       "      <th></th>\n",
       "      <th></th>\n",
       "      <th></th>\n",
       "    </tr>\n",
       "  </thead>\n",
       "  <tbody>\n",
       "    <tr>\n",
       "      <th>2000-03-31</th>\n",
       "      <td>69.987499</td>\n",
       "      <td>69.987499</td>\n",
       "      <td>69.987499</td>\n",
       "      <td>69.987499</td>\n",
       "      <td>37.237532</td>\n",
       "      <td>6.550000e+03</td>\n",
       "      <td>2000.0</td>\n",
       "      <td>1.0</td>\n",
       "      <td>3.000000</td>\n",
       "      <td>-0.075284</td>\n",
       "      <td>1</td>\n",
       "      <td>1</td>\n",
       "      <td>3.577418</td>\n",
       "    </tr>\n",
       "    <tr>\n",
       "      <th>2000-06-30</th>\n",
       "      <td>658.854255</td>\n",
       "      <td>666.127636</td>\n",
       "      <td>651.117957</td>\n",
       "      <td>658.306721</td>\n",
       "      <td>622.928755</td>\n",
       "      <td>3.705269e+06</td>\n",
       "      <td>2000.0</td>\n",
       "      <td>2.0</td>\n",
       "      <td>5.030769</td>\n",
       "      <td>2.264735</td>\n",
       "      <td>2</td>\n",
       "      <td>4</td>\n",
       "      <td>6.590198</td>\n",
       "    </tr>\n",
       "    <tr>\n",
       "      <th>2000-09-30</th>\n",
       "      <td>554.894740</td>\n",
       "      <td>560.845688</td>\n",
       "      <td>548.565042</td>\n",
       "      <td>554.446758</td>\n",
       "      <td>518.092640</td>\n",
       "      <td>5.936609e+06</td>\n",
       "      <td>2000.0</td>\n",
       "      <td>3.0</td>\n",
       "      <td>8.000000</td>\n",
       "      <td>1.715308</td>\n",
       "      <td>3</td>\n",
       "      <td>9</td>\n",
       "      <td>NaN</td>\n",
       "    </tr>\n",
       "    <tr>\n",
       "      <th>2000-12-31</th>\n",
       "      <td>101.666018</td>\n",
       "      <td>101.930505</td>\n",
       "      <td>101.384698</td>\n",
       "      <td>101.646108</td>\n",
       "      <td>63.997086</td>\n",
       "      <td>1.389459e+07</td>\n",
       "      <td>2000.0</td>\n",
       "      <td>4.0</td>\n",
       "      <td>10.984615</td>\n",
       "      <td>0.435220</td>\n",
       "      <td>4</td>\n",
       "      <td>16</td>\n",
       "      <td>NaN</td>\n",
       "    </tr>\n",
       "    <tr>\n",
       "      <th>2001-03-31</th>\n",
       "      <td>118.009672</td>\n",
       "      <td>118.274159</td>\n",
       "      <td>117.728353</td>\n",
       "      <td>117.989762</td>\n",
       "      <td>72.692887</td>\n",
       "      <td>2.137032e+07</td>\n",
       "      <td>2001.0</td>\n",
       "      <td>1.0</td>\n",
       "      <td>1.984615</td>\n",
       "      <td>0.369491</td>\n",
       "      <td>5</td>\n",
       "      <td>25</td>\n",
       "      <td>NaN</td>\n",
       "    </tr>\n",
       "    <tr>\n",
       "      <th>...</th>\n",
       "      <td>...</td>\n",
       "      <td>...</td>\n",
       "      <td>...</td>\n",
       "      <td>...</td>\n",
       "      <td>...</td>\n",
       "      <td>...</td>\n",
       "      <td>...</td>\n",
       "      <td>...</td>\n",
       "      <td>...</td>\n",
       "      <td>...</td>\n",
       "      <td>...</td>\n",
       "      <td>...</td>\n",
       "      <td>...</td>\n",
       "    </tr>\n",
       "    <tr>\n",
       "      <th>2023-03-31</th>\n",
       "      <td>2383.557251</td>\n",
       "      <td>2399.730642</td>\n",
       "      <td>2356.349999</td>\n",
       "      <td>2375.707268</td>\n",
       "      <td>2367.344341</td>\n",
       "      <td>2.463628e+05</td>\n",
       "      <td>2023.0</td>\n",
       "      <td>1.0</td>\n",
       "      <td>2.000000</td>\n",
       "      <td>-0.001342</td>\n",
       "      <td>93</td>\n",
       "      <td>8649</td>\n",
       "      <td>7.750548</td>\n",
       "    </tr>\n",
       "    <tr>\n",
       "      <th>2023-06-30</th>\n",
       "      <td>2394.368826</td>\n",
       "      <td>2409.078665</td>\n",
       "      <td>2378.147392</td>\n",
       "      <td>2393.632254</td>\n",
       "      <td>2384.144275</td>\n",
       "      <td>2.958529e+05</td>\n",
       "      <td>2023.0</td>\n",
       "      <td>2.0</td>\n",
       "      <td>5.066667</td>\n",
       "      <td>0.057820</td>\n",
       "      <td>94</td>\n",
       "      <td>8836</td>\n",
       "      <td>7.840597</td>\n",
       "    </tr>\n",
       "    <tr>\n",
       "      <th>2023-09-30</th>\n",
       "      <td>2135.861691</td>\n",
       "      <td>2154.229859</td>\n",
       "      <td>2117.493326</td>\n",
       "      <td>2135.226569</td>\n",
       "      <td>2125.064121</td>\n",
       "      <td>1.230341e+06</td>\n",
       "      <td>2023.0</td>\n",
       "      <td>3.0</td>\n",
       "      <td>7.984127</td>\n",
       "      <td>0.176493</td>\n",
       "      <td>95</td>\n",
       "      <td>9025</td>\n",
       "      <td>NaN</td>\n",
       "    </tr>\n",
       "    <tr>\n",
       "      <th>2023-12-31</th>\n",
       "      <td>2385.684977</td>\n",
       "      <td>2400.935828</td>\n",
       "      <td>2372.102498</td>\n",
       "      <td>2386.181673</td>\n",
       "      <td>2386.181673</td>\n",
       "      <td>6.595542e+05</td>\n",
       "      <td>2023.0</td>\n",
       "      <td>4.0</td>\n",
       "      <td>11.000000</td>\n",
       "      <td>0.001652</td>\n",
       "      <td>96</td>\n",
       "      <td>9216</td>\n",
       "      <td>NaN</td>\n",
       "    </tr>\n",
       "    <tr>\n",
       "      <th>2024-03-31</th>\n",
       "      <td>2807.942722</td>\n",
       "      <td>2838.621825</td>\n",
       "      <td>2784.301188</td>\n",
       "      <td>2812.386124</td>\n",
       "      <td>2811.810416</td>\n",
       "      <td>3.643175e+05</td>\n",
       "      <td>2024.0</td>\n",
       "      <td>1.0</td>\n",
       "      <td>1.950000</td>\n",
       "      <td>0.036143</td>\n",
       "      <td>97</td>\n",
       "      <td>9409</td>\n",
       "      <td>NaN</td>\n",
       "    </tr>\n",
       "  </tbody>\n",
       "</table>\n",
       "<p>97 rows × 13 columns</p>\n",
       "</div>"
      ],
      "text/plain": [
       "                   Open         High          Low        Close    Adj_Close  \\\n",
       "Date                                                                          \n",
       "2000-03-31    69.987499    69.987499    69.987499    69.987499    37.237532   \n",
       "2000-06-30   658.854255   666.127636   651.117957   658.306721   622.928755   \n",
       "2000-09-30   554.894740   560.845688   548.565042   554.446758   518.092640   \n",
       "2000-12-31   101.666018   101.930505   101.384698   101.646108    63.997086   \n",
       "2001-03-31   118.009672   118.274159   117.728353   117.989762    72.692887   \n",
       "...                 ...          ...          ...          ...          ...   \n",
       "2023-03-31  2383.557251  2399.730642  2356.349999  2375.707268  2367.344341   \n",
       "2023-06-30  2394.368826  2409.078665  2378.147392  2393.632254  2384.144275   \n",
       "2023-09-30  2135.861691  2154.229859  2117.493326  2135.226569  2125.064121   \n",
       "2023-12-31  2385.684977  2400.935828  2372.102498  2386.181673  2386.181673   \n",
       "2024-03-31  2807.942722  2838.621825  2784.301188  2812.386124  2811.810416   \n",
       "\n",
       "                  Volume    year  quarter      month  Daily_Return   t  \\\n",
       "Date                                                                     \n",
       "2000-03-31  6.550000e+03  2000.0      1.0   3.000000     -0.075284   1   \n",
       "2000-06-30  3.705269e+06  2000.0      2.0   5.030769      2.264735   2   \n",
       "2000-09-30  5.936609e+06  2000.0      3.0   8.000000      1.715308   3   \n",
       "2000-12-31  1.389459e+07  2000.0      4.0  10.984615      0.435220   4   \n",
       "2001-03-31  2.137032e+07  2001.0      1.0   1.984615      0.369491   5   \n",
       "...                  ...     ...      ...        ...           ...  ..   \n",
       "2023-03-31  2.463628e+05  2023.0      1.0   2.000000     -0.001342  93   \n",
       "2023-06-30  2.958529e+05  2023.0      2.0   5.066667      0.057820  94   \n",
       "2023-09-30  1.230341e+06  2023.0      3.0   7.984127      0.176493  95   \n",
       "2023-12-31  6.595542e+05  2023.0      4.0  11.000000      0.001652  96   \n",
       "2024-03-31  3.643175e+05  2024.0      1.0   1.950000      0.036143  97   \n",
       "\n",
       "            t_squared  log_Adj_Close  \n",
       "Date                                  \n",
       "2000-03-31          1       3.577418  \n",
       "2000-06-30          4       6.590198  \n",
       "2000-09-30          9            NaN  \n",
       "2000-12-31         16            NaN  \n",
       "2001-03-31         25            NaN  \n",
       "...               ...            ...  \n",
       "2023-03-31       8649       7.750548  \n",
       "2023-06-30       8836       7.840597  \n",
       "2023-09-30       9025            NaN  \n",
       "2023-12-31       9216            NaN  \n",
       "2024-03-31       9409            NaN  \n",
       "\n",
       "[97 rows x 13 columns]"
      ]
     },
     "execution_count": 47,
     "metadata": {},
     "output_type": "execute_result"
    }
   ],
   "source": [
    "# Data preprocessing for models\n",
    "Quarterlydata[\"t\"] = np.arange(1,98)\n",
    "Quarterlydata[\"t_squared\"] = Quarterlydata[\"t\"]*Quarterlydata[\"t\"]\n",
    "Quarterlydata[\"log_Adj_Close\"] = np.log(df[\"Adj_Close\"])\n",
    "Quarterlydata"
   ]
  },
  {
   "cell_type": "code",
   "execution_count": 48,
   "id": "d1bf5b52",
   "metadata": {
    "ExecuteTime": {
     "end_time": "2023-06-30T09:06:40.259563Z",
     "start_time": "2023-06-30T09:06:40.200582Z"
    }
   },
   "outputs": [
    {
     "data": {
      "text/html": [
       "<div>\n",
       "<style scoped>\n",
       "    .dataframe tbody tr th:only-of-type {\n",
       "        vertical-align: middle;\n",
       "    }\n",
       "\n",
       "    .dataframe tbody tr th {\n",
       "        vertical-align: top;\n",
       "    }\n",
       "\n",
       "    .dataframe thead th {\n",
       "        text-align: right;\n",
       "    }\n",
       "</style>\n",
       "<table border=\"1\" class=\"dataframe\">\n",
       "  <thead>\n",
       "    <tr style=\"text-align: right;\">\n",
       "      <th></th>\n",
       "      <th>Open</th>\n",
       "      <th>High</th>\n",
       "      <th>Low</th>\n",
       "      <th>Close</th>\n",
       "      <th>Adj_Close</th>\n",
       "      <th>Volume</th>\n",
       "      <th>year</th>\n",
       "      <th>quarter</th>\n",
       "      <th>month</th>\n",
       "      <th>Daily_Return</th>\n",
       "      <th>t</th>\n",
       "      <th>Q1</th>\n",
       "      <th>Q2</th>\n",
       "      <th>Q3</th>\n",
       "      <th>Q4</th>\n",
       "      <th>3.0</th>\n",
       "      <th>4.0</th>\n",
       "    </tr>\n",
       "    <tr>\n",
       "      <th>Date</th>\n",
       "      <th></th>\n",
       "      <th></th>\n",
       "      <th></th>\n",
       "      <th></th>\n",
       "      <th></th>\n",
       "      <th></th>\n",
       "      <th></th>\n",
       "      <th></th>\n",
       "      <th></th>\n",
       "      <th></th>\n",
       "      <th></th>\n",
       "      <th></th>\n",
       "      <th></th>\n",
       "      <th></th>\n",
       "      <th></th>\n",
       "      <th></th>\n",
       "      <th></th>\n",
       "    </tr>\n",
       "  </thead>\n",
       "  <tbody>\n",
       "    <tr>\n",
       "      <th>2000-03-31</th>\n",
       "      <td>69.987499</td>\n",
       "      <td>69.987499</td>\n",
       "      <td>69.987499</td>\n",
       "      <td>69.987499</td>\n",
       "      <td>37.237532</td>\n",
       "      <td>6.550000e+03</td>\n",
       "      <td>2000.0</td>\n",
       "      <td>1.0</td>\n",
       "      <td>3.000000</td>\n",
       "      <td>-0.075284</td>\n",
       "      <td>1</td>\n",
       "      <td>1</td>\n",
       "      <td>3.577418</td>\n",
       "      <td>True</td>\n",
       "      <td>False</td>\n",
       "      <td>False</td>\n",
       "      <td>False</td>\n",
       "    </tr>\n",
       "    <tr>\n",
       "      <th>2000-06-30</th>\n",
       "      <td>658.854255</td>\n",
       "      <td>666.127636</td>\n",
       "      <td>651.117957</td>\n",
       "      <td>658.306721</td>\n",
       "      <td>622.928755</td>\n",
       "      <td>3.705269e+06</td>\n",
       "      <td>2000.0</td>\n",
       "      <td>2.0</td>\n",
       "      <td>5.030769</td>\n",
       "      <td>2.264735</td>\n",
       "      <td>2</td>\n",
       "      <td>4</td>\n",
       "      <td>6.590198</td>\n",
       "      <td>False</td>\n",
       "      <td>True</td>\n",
       "      <td>False</td>\n",
       "      <td>False</td>\n",
       "    </tr>\n",
       "    <tr>\n",
       "      <th>2000-09-30</th>\n",
       "      <td>554.894740</td>\n",
       "      <td>560.845688</td>\n",
       "      <td>548.565042</td>\n",
       "      <td>554.446758</td>\n",
       "      <td>518.092640</td>\n",
       "      <td>5.936609e+06</td>\n",
       "      <td>2000.0</td>\n",
       "      <td>3.0</td>\n",
       "      <td>8.000000</td>\n",
       "      <td>1.715308</td>\n",
       "      <td>3</td>\n",
       "      <td>9</td>\n",
       "      <td>NaN</td>\n",
       "      <td>False</td>\n",
       "      <td>False</td>\n",
       "      <td>True</td>\n",
       "      <td>False</td>\n",
       "    </tr>\n",
       "    <tr>\n",
       "      <th>2000-12-31</th>\n",
       "      <td>101.666018</td>\n",
       "      <td>101.930505</td>\n",
       "      <td>101.384698</td>\n",
       "      <td>101.646108</td>\n",
       "      <td>63.997086</td>\n",
       "      <td>1.389459e+07</td>\n",
       "      <td>2000.0</td>\n",
       "      <td>4.0</td>\n",
       "      <td>10.984615</td>\n",
       "      <td>0.435220</td>\n",
       "      <td>4</td>\n",
       "      <td>16</td>\n",
       "      <td>NaN</td>\n",
       "      <td>False</td>\n",
       "      <td>False</td>\n",
       "      <td>False</td>\n",
       "      <td>True</td>\n",
       "    </tr>\n",
       "    <tr>\n",
       "      <th>2001-03-31</th>\n",
       "      <td>118.009672</td>\n",
       "      <td>118.274159</td>\n",
       "      <td>117.728353</td>\n",
       "      <td>117.989762</td>\n",
       "      <td>72.692887</td>\n",
       "      <td>2.137032e+07</td>\n",
       "      <td>2001.0</td>\n",
       "      <td>1.0</td>\n",
       "      <td>1.984615</td>\n",
       "      <td>0.369491</td>\n",
       "      <td>5</td>\n",
       "      <td>25</td>\n",
       "      <td>NaN</td>\n",
       "      <td>True</td>\n",
       "      <td>False</td>\n",
       "      <td>False</td>\n",
       "      <td>False</td>\n",
       "    </tr>\n",
       "    <tr>\n",
       "      <th>...</th>\n",
       "      <td>...</td>\n",
       "      <td>...</td>\n",
       "      <td>...</td>\n",
       "      <td>...</td>\n",
       "      <td>...</td>\n",
       "      <td>...</td>\n",
       "      <td>...</td>\n",
       "      <td>...</td>\n",
       "      <td>...</td>\n",
       "      <td>...</td>\n",
       "      <td>...</td>\n",
       "      <td>...</td>\n",
       "      <td>...</td>\n",
       "      <td>...</td>\n",
       "      <td>...</td>\n",
       "      <td>...</td>\n",
       "      <td>...</td>\n",
       "    </tr>\n",
       "    <tr>\n",
       "      <th>2023-03-31</th>\n",
       "      <td>2383.557251</td>\n",
       "      <td>2399.730642</td>\n",
       "      <td>2356.349999</td>\n",
       "      <td>2375.707268</td>\n",
       "      <td>2367.344341</td>\n",
       "      <td>2.463628e+05</td>\n",
       "      <td>2023.0</td>\n",
       "      <td>1.0</td>\n",
       "      <td>2.000000</td>\n",
       "      <td>-0.001342</td>\n",
       "      <td>93</td>\n",
       "      <td>8649</td>\n",
       "      <td>7.750548</td>\n",
       "      <td>True</td>\n",
       "      <td>False</td>\n",
       "      <td>False</td>\n",
       "      <td>False</td>\n",
       "    </tr>\n",
       "    <tr>\n",
       "      <th>2023-06-30</th>\n",
       "      <td>2394.368826</td>\n",
       "      <td>2409.078665</td>\n",
       "      <td>2378.147392</td>\n",
       "      <td>2393.632254</td>\n",
       "      <td>2384.144275</td>\n",
       "      <td>2.958529e+05</td>\n",
       "      <td>2023.0</td>\n",
       "      <td>2.0</td>\n",
       "      <td>5.066667</td>\n",
       "      <td>0.057820</td>\n",
       "      <td>94</td>\n",
       "      <td>8836</td>\n",
       "      <td>7.840597</td>\n",
       "      <td>False</td>\n",
       "      <td>True</td>\n",
       "      <td>False</td>\n",
       "      <td>False</td>\n",
       "    </tr>\n",
       "    <tr>\n",
       "      <th>2023-09-30</th>\n",
       "      <td>2135.861691</td>\n",
       "      <td>2154.229859</td>\n",
       "      <td>2117.493326</td>\n",
       "      <td>2135.226569</td>\n",
       "      <td>2125.064121</td>\n",
       "      <td>1.230341e+06</td>\n",
       "      <td>2023.0</td>\n",
       "      <td>3.0</td>\n",
       "      <td>7.984127</td>\n",
       "      <td>0.176493</td>\n",
       "      <td>95</td>\n",
       "      <td>9025</td>\n",
       "      <td>NaN</td>\n",
       "      <td>False</td>\n",
       "      <td>False</td>\n",
       "      <td>True</td>\n",
       "      <td>False</td>\n",
       "    </tr>\n",
       "    <tr>\n",
       "      <th>2023-12-31</th>\n",
       "      <td>2385.684977</td>\n",
       "      <td>2400.935828</td>\n",
       "      <td>2372.102498</td>\n",
       "      <td>2386.181673</td>\n",
       "      <td>2386.181673</td>\n",
       "      <td>6.595542e+05</td>\n",
       "      <td>2023.0</td>\n",
       "      <td>4.0</td>\n",
       "      <td>11.000000</td>\n",
       "      <td>0.001652</td>\n",
       "      <td>96</td>\n",
       "      <td>9216</td>\n",
       "      <td>NaN</td>\n",
       "      <td>False</td>\n",
       "      <td>False</td>\n",
       "      <td>False</td>\n",
       "      <td>True</td>\n",
       "    </tr>\n",
       "    <tr>\n",
       "      <th>2024-03-31</th>\n",
       "      <td>2807.942722</td>\n",
       "      <td>2838.621825</td>\n",
       "      <td>2784.301188</td>\n",
       "      <td>2812.386124</td>\n",
       "      <td>2811.810416</td>\n",
       "      <td>3.643175e+05</td>\n",
       "      <td>2024.0</td>\n",
       "      <td>1.0</td>\n",
       "      <td>1.950000</td>\n",
       "      <td>0.036143</td>\n",
       "      <td>97</td>\n",
       "      <td>9409</td>\n",
       "      <td>NaN</td>\n",
       "      <td>True</td>\n",
       "      <td>False</td>\n",
       "      <td>False</td>\n",
       "      <td>False</td>\n",
       "    </tr>\n",
       "  </tbody>\n",
       "</table>\n",
       "<p>97 rows × 17 columns</p>\n",
       "</div>"
      ],
      "text/plain": [
       "                   Open         High          Low        Close    Adj_Close  \\\n",
       "Date                                                                          \n",
       "2000-03-31    69.987499    69.987499    69.987499    69.987499    37.237532   \n",
       "2000-06-30   658.854255   666.127636   651.117957   658.306721   622.928755   \n",
       "2000-09-30   554.894740   560.845688   548.565042   554.446758   518.092640   \n",
       "2000-12-31   101.666018   101.930505   101.384698   101.646108    63.997086   \n",
       "2001-03-31   118.009672   118.274159   117.728353   117.989762    72.692887   \n",
       "...                 ...          ...          ...          ...          ...   \n",
       "2023-03-31  2383.557251  2399.730642  2356.349999  2375.707268  2367.344341   \n",
       "2023-06-30  2394.368826  2409.078665  2378.147392  2393.632254  2384.144275   \n",
       "2023-09-30  2135.861691  2154.229859  2117.493326  2135.226569  2125.064121   \n",
       "2023-12-31  2385.684977  2400.935828  2372.102498  2386.181673  2386.181673   \n",
       "2024-03-31  2807.942722  2838.621825  2784.301188  2812.386124  2811.810416   \n",
       "\n",
       "                  Volume    year  quarter      month  Daily_Return   t    Q1  \\\n",
       "Date                                                                           \n",
       "2000-03-31  6.550000e+03  2000.0      1.0   3.000000     -0.075284   1     1   \n",
       "2000-06-30  3.705269e+06  2000.0      2.0   5.030769      2.264735   2     4   \n",
       "2000-09-30  5.936609e+06  2000.0      3.0   8.000000      1.715308   3     9   \n",
       "2000-12-31  1.389459e+07  2000.0      4.0  10.984615      0.435220   4    16   \n",
       "2001-03-31  2.137032e+07  2001.0      1.0   1.984615      0.369491   5    25   \n",
       "...                  ...     ...      ...        ...           ...  ..   ...   \n",
       "2023-03-31  2.463628e+05  2023.0      1.0   2.000000     -0.001342  93  8649   \n",
       "2023-06-30  2.958529e+05  2023.0      2.0   5.066667      0.057820  94  8836   \n",
       "2023-09-30  1.230341e+06  2023.0      3.0   7.984127      0.176493  95  9025   \n",
       "2023-12-31  6.595542e+05  2023.0      4.0  11.000000      0.001652  96  9216   \n",
       "2024-03-31  3.643175e+05  2024.0      1.0   1.950000      0.036143  97  9409   \n",
       "\n",
       "                  Q2     Q3     Q4    3.0    4.0  \n",
       "Date                                              \n",
       "2000-03-31  3.577418   True  False  False  False  \n",
       "2000-06-30  6.590198  False   True  False  False  \n",
       "2000-09-30       NaN  False  False   True  False  \n",
       "2000-12-31       NaN  False  False  False   True  \n",
       "2001-03-31       NaN   True  False  False  False  \n",
       "...              ...    ...    ...    ...    ...  \n",
       "2023-03-31  7.750548   True  False  False  False  \n",
       "2023-06-30  7.840597  False   True  False  False  \n",
       "2023-09-30       NaN  False  False   True  False  \n",
       "2023-12-31       NaN  False  False  False   True  \n",
       "2024-03-31       NaN   True  False  False  False  \n",
       "\n",
       "[97 rows x 17 columns]"
      ]
     },
     "execution_count": 48,
     "metadata": {},
     "output_type": "execute_result"
    }
   ],
   "source": [
    "# Getting dummy variables for Quarters Q1, Q2, Q3, Q4 \n",
    "Quarters_Dummies=pd.DataFrame(pd.get_dummies(Quarterlydata['quarter']))\n",
    "df=pd.concat([Quarterlydata,Quarters_Dummies],axis = 1)\n",
    "df=df.rename(columns={df.columns[11]: 'Q1', df.columns[12]: 'Q2',df.columns[13]: 'Q3',df.columns[14]: 'Q4'})#renaming the column\n",
    "df"
   ]
  },
  {
   "cell_type": "code",
   "execution_count": 49,
   "id": "4c65273f",
   "metadata": {
    "ExecuteTime": {
     "end_time": "2023-06-30T09:06:40.275043Z",
     "start_time": "2023-06-30T09:06:40.262921Z"
    }
   },
   "outputs": [
    {
     "data": {
      "text/plain": [
       "Open              0\n",
       "High              0\n",
       "Low               0\n",
       "Close             0\n",
       "Adj_Close         0\n",
       "Volume            0\n",
       "year              0\n",
       "quarter           0\n",
       "month             0\n",
       "Daily_Return      0\n",
       "t                 0\n",
       "t_squared         0\n",
       "log_Adj_Close    31\n",
       "dtype: int64"
      ]
     },
     "execution_count": 49,
     "metadata": {},
     "output_type": "execute_result"
    }
   ],
   "source": [
    "Quarterlydata.isnull().sum()"
   ]
  },
  {
   "cell_type": "code",
   "execution_count": 47,
   "id": "2908c2e6",
   "metadata": {
    "ExecuteTime": {
     "end_time": "2023-06-30T09:06:40.306011Z",
     "start_time": "2023-06-30T09:06:40.277136Z"
    }
   },
   "outputs": [
    {
     "data": {
      "text/plain": [
       "Adj_Close        0\n",
       "Volume           0\n",
       "year             0\n",
       "quarter          0\n",
       "month            0\n",
       "week             0\n",
       "day              0\n",
       "Daily_Return     0\n",
       "t                0\n",
       "t_squared        0\n",
       "log_Adj_Close    0\n",
       "dtype: int64"
      ]
     },
     "execution_count": 47,
     "metadata": {},
     "output_type": "execute_result"
    }
   ],
   "source": [
    "Quarterlydata=Quarterlydata.fillna(Quarterlydata.mean()) #filled null values with their column mean value\n",
    "Quarterlydata.isnull().sum()"
   ]
  },
  {
   "cell_type": "code",
   "execution_count": 48,
   "id": "c24476cd",
   "metadata": {
    "ExecuteTime": {
     "end_time": "2023-06-30T09:06:40.321890Z",
     "start_time": "2023-06-30T09:06:40.308458Z"
    }
   },
   "outputs": [],
   "source": [
    "# Split the data into Train and Test\n",
    "Train = df.head(73)\n",
    "Test = df.tail(19)"
   ]
  },
  {
   "cell_type": "markdown",
   "id": "6bb12bd0",
   "metadata": {},
   "source": [
    "### Linear Method "
   ]
  },
  {
   "cell_type": "code",
   "execution_count": 49,
   "id": "8cbe2e6f",
   "metadata": {
    "ExecuteTime": {
     "end_time": "2023-06-30T09:06:40.492465Z",
     "start_time": "2023-06-30T09:06:40.323863Z"
    }
   },
   "outputs": [
    {
     "name": "stdout",
     "output_type": "stream",
     "text": [
      "MAPE Value for LINEAR =  55.542130853284036\n",
      "RMSE Value for LINEAR =  1182.300174490938\n"
     ]
    }
   ],
   "source": [
    "import statsmodels.formula.api as smf #importing smf for ols \n",
    "\n",
    "linear_model = smf.ols('Adj_Close~t',data=Train).fit()\n",
    "pred_linear =  pd.Series(linear_model.predict(pd.DataFrame(Test['t'])))\n",
    "rmse_linear = RMSE(Test.Adj_Close, pred_linear)\n",
    "mape_linear = MAPE(pred_linear,Test.Adj_Close) \n",
    "print(\"MAPE Value for LINEAR = \" ,mape_linear)\n",
    "print(\"RMSE Value for LINEAR = \" ,rmse_linear)"
   ]
  },
  {
   "cell_type": "markdown",
   "id": "3f5a5cae",
   "metadata": {},
   "source": [
    "### Exponential Method "
   ]
  },
  {
   "cell_type": "code",
   "execution_count": 50,
   "id": "01915626",
   "metadata": {
    "ExecuteTime": {
     "end_time": "2023-06-30T09:06:40.523737Z",
     "start_time": "2023-06-30T09:06:40.496469Z"
    }
   },
   "outputs": [
    {
     "name": "stdout",
     "output_type": "stream",
     "text": [
      "MAPE Value for EXPONENTIAL =  99.5435203548256\n",
      "RMSE Value for EXPONENTIAL =  1872.2391459515018\n"
     ]
    }
   ],
   "source": [
    "exp_model = smf.ols('log_Adj_Close~t',data=Train).fit()\n",
    "pred_exp = pd.Series(exp_model.predict(pd.DataFrame(Test['t'])))\n",
    "rmse_exp = RMSE(Test.Adj_Close, pred_exp)\n",
    "mape_exp = MAPE(pred_exp,Test.Adj_Close) \n",
    "print(\"MAPE Value for EXPONENTIAL = \" ,mape_exp)\n",
    "print(\"RMSE Value for EXPONENTIAL = \" ,rmse_exp)"
   ]
  },
  {
   "cell_type": "markdown",
   "id": "87d7c983",
   "metadata": {},
   "source": [
    "### Quadratic Method "
   ]
  },
  {
   "cell_type": "code",
   "execution_count": 51,
   "id": "5809fe06",
   "metadata": {
    "ExecuteTime": {
     "end_time": "2023-06-30T09:06:40.555944Z",
     "start_time": "2023-06-30T09:06:40.526692Z"
    }
   },
   "outputs": [
    {
     "name": "stdout",
     "output_type": "stream",
     "text": [
      "MAPE Value for QUADRATIC =  58.37097410606816\n",
      "RMSE Value for QUADRATIC =  1233.6891299977317\n"
     ]
    }
   ],
   "source": [
    "quad_model = smf.ols('Adj_Close~t+t_squared',data=Train).fit()\n",
    "pred_quad = pd.Series(quad_model.predict(Test[[\"t\",\"t_squared\"]]))\n",
    "rmse_quad = RMSE(Test.Adj_Close, pred_quad)\n",
    "mape_quad = MAPE(pred_quad,Test.Adj_Close) \n",
    "print(\"MAPE Value for QUADRATIC = \" ,mape_quad)\n",
    "print(\"RMSE Value for QUADRATIC = \" ,rmse_quad)"
   ]
  },
  {
   "cell_type": "markdown",
   "id": "8881f48b",
   "metadata": {},
   "source": [
    "### Additive Seasonality Method "
   ]
  },
  {
   "cell_type": "code",
   "execution_count": 52,
   "id": "8ceed8e7",
   "metadata": {
    "ExecuteTime": {
     "end_time": "2023-06-30T09:06:40.617580Z",
     "start_time": "2023-06-30T09:06:40.557628Z"
    }
   },
   "outputs": [
    {
     "name": "stdout",
     "output_type": "stream",
     "text": [
      "MAPE Value for ADDITIVE SEASONALITY =  80.31137414526118\n",
      "RMSE Value for ADDITIVE SEASONALITY =  1579.996319578437\n"
     ]
    }
   ],
   "source": [
    "add_sea_model = smf.ols('Adj_Close~Q1+Q2+Q3+Q4',data=Train).fit()\n",
    "pred_add_sea = pd.Series(add_sea_model.predict(Test[['Q1','Q2','Q3','Q4']]))\n",
    "rmse_add_sea = RMSE(Test.Adj_Close, pred_add_sea)\n",
    "mape_add_sea = MAPE(pred_add_sea,Test.Adj_Close) \n",
    "print(\"MAPE Value for ADDITIVE SEASONALITY = \" ,mape_add_sea)\n",
    "print(\"RMSE Value for ADDITIVE SEASONALITY = \" ,rmse_add_sea)"
   ]
  },
  {
   "cell_type": "markdown",
   "id": "671efcf5",
   "metadata": {},
   "source": [
    "### Multipicative Seasonality Method"
   ]
  },
  {
   "cell_type": "code",
   "execution_count": 53,
   "id": "33471a81",
   "metadata": {
    "ExecuteTime": {
     "end_time": "2023-06-30T09:06:40.664544Z",
     "start_time": "2023-06-30T09:06:40.620547Z"
    }
   },
   "outputs": [
    {
     "name": "stdout",
     "output_type": "stream",
     "text": [
      "MAPE Value for MULTIPLICATIVE SEASONALITY =  99.66302742805787\n",
      "RMSE Value for MULTIPLICATIVE SEASONALITY =  1874.2169757173494\n"
     ]
    }
   ],
   "source": [
    "mult_sea_model = smf.ols('log_Adj_Close~Q1+Q2+Q3+Q4',data = Train).fit()\n",
    "pred_mult_sea = pd.Series(mult_sea_model.predict(Test))\n",
    "rmse_mult_sea = RMSE(Test.Adj_Close, pred_mult_sea)\n",
    "mape_mult_sea = MAPE(pred_mult_sea,Test.Adj_Close) \n",
    "print(\"MAPE Value for MULTIPLICATIVE SEASONALITY = \" ,mape_mult_sea)\n",
    "print(\"RMSE Value for MULTIPLICATIVE SEASONALITY = \" ,rmse_mult_sea)"
   ]
  },
  {
   "cell_type": "markdown",
   "id": "ed8bdc3e",
   "metadata": {},
   "source": [
    "### Multiplicative Additive Seasonality Method"
   ]
  },
  {
   "cell_type": "code",
   "execution_count": 54,
   "id": "d2d75413",
   "metadata": {
    "ExecuteTime": {
     "end_time": "2023-06-30T09:06:40.711995Z",
     "start_time": "2023-06-30T09:06:40.667540Z"
    }
   },
   "outputs": [
    {
     "name": "stdout",
     "output_type": "stream",
     "text": [
      "MAPE Value for MULTIPLICATIVE ADDITIVE SEASONALITY =  99.54331563289219\n",
      "RMSE Value for MULTIPLICATIVE ADDITIVE SEASONALITY =  1872.2369705845356\n"
     ]
    }
   ],
   "source": [
    "mul_add_sea_model = smf.ols('log_Adj_Close~t+Q1+Q2+Q3+Q4',data = Train).fit()\n",
    "pred_mult_add_sea = pd.Series(mul_add_sea_model.predict(Test))\n",
    "rmse_mult_add_sea = RMSE(Test.Adj_Close, pred_mult_add_sea)\n",
    "mape_mult_add_sea = MAPE(pred_mult_add_sea,Test.Adj_Close) \n",
    "print(\"MAPE Value for MULTIPLICATIVE ADDITIVE SEASONALITY = \" ,mape_mult_add_sea)\n",
    "print(\"RMSE Value for MULTIPLICATIVE ADDITIVE SEASONALITY = \" ,rmse_mult_add_sea)"
   ]
  },
  {
   "cell_type": "code",
   "execution_count": 55,
   "id": "9666f399",
   "metadata": {
    "ExecuteTime": {
     "end_time": "2023-06-30T09:06:40.758588Z",
     "start_time": "2023-06-30T09:06:40.715980Z"
    }
   },
   "outputs": [
    {
     "data": {
      "text/html": [
       "<div>\n",
       "<style scoped>\n",
       "    .dataframe tbody tr th:only-of-type {\n",
       "        vertical-align: middle;\n",
       "    }\n",
       "\n",
       "    .dataframe tbody tr th {\n",
       "        vertical-align: top;\n",
       "    }\n",
       "\n",
       "    .dataframe thead th {\n",
       "        text-align: right;\n",
       "    }\n",
       "</style>\n",
       "<table border=\"1\" class=\"dataframe\">\n",
       "  <thead>\n",
       "    <tr style=\"text-align: right;\">\n",
       "      <th></th>\n",
       "      <th>MODEL</th>\n",
       "      <th>MAPE_Values</th>\n",
       "      <th>RMSE_Values</th>\n",
       "    </tr>\n",
       "  </thead>\n",
       "  <tbody>\n",
       "    <tr>\n",
       "      <th>0</th>\n",
       "      <td>linear_model</td>\n",
       "      <td>55.542131</td>\n",
       "      <td>1182.300174</td>\n",
       "    </tr>\n",
       "    <tr>\n",
       "      <th>2</th>\n",
       "      <td>quadratic_model</td>\n",
       "      <td>58.370974</td>\n",
       "      <td>1233.689130</td>\n",
       "    </tr>\n",
       "    <tr>\n",
       "      <th>3</th>\n",
       "      <td>additive_seasonality_model</td>\n",
       "      <td>80.311374</td>\n",
       "      <td>1579.996320</td>\n",
       "    </tr>\n",
       "    <tr>\n",
       "      <th>5</th>\n",
       "      <td>multiplicative_additive_model</td>\n",
       "      <td>99.543316</td>\n",
       "      <td>1872.236971</td>\n",
       "    </tr>\n",
       "    <tr>\n",
       "      <th>1</th>\n",
       "      <td>exponential_model</td>\n",
       "      <td>99.543520</td>\n",
       "      <td>1872.239146</td>\n",
       "    </tr>\n",
       "    <tr>\n",
       "      <th>4</th>\n",
       "      <td>multiplicative_seasonality_model</td>\n",
       "      <td>99.663027</td>\n",
       "      <td>1874.216976</td>\n",
       "    </tr>\n",
       "  </tbody>\n",
       "</table>\n",
       "</div>"
      ],
      "text/plain": [
       "                              MODEL  MAPE_Values  RMSE_Values\n",
       "0                      linear_model    55.542131  1182.300174\n",
       "2                   quadratic_model    58.370974  1233.689130\n",
       "3        additive_seasonality_model    80.311374  1579.996320\n",
       "5     multiplicative_additive_model    99.543316  1872.236971\n",
       "1                 exponential_model    99.543520  1872.239146\n",
       "4  multiplicative_seasonality_model    99.663027  1874.216976"
      ]
     },
     "execution_count": 55,
     "metadata": {},
     "output_type": "execute_result"
    }
   ],
   "source": [
    "#Compare the results \n",
    "\n",
    "data = {\"MODEL\":pd.Series([\"linear_model\",\"exponential_model\",\"quadratic_model\",\"additive_seasonality_model\",\"multiplicative_seasonality_model\",\"multiplicative_additive_model\"]),\n",
    "        \"MAPE_Values\":pd.Series([mape_linear,mape_exp,mape_quad,mape_add_sea,mape_mult_sea,mape_mult_add_sea]),\n",
    "        \"RMSE_Values\":pd.Series([rmse_linear,rmse_exp,rmse_quad,rmse_add_sea,rmse_mult_sea,rmse_mult_add_sea])}\n",
    "table_model_based=pd.DataFrame(data)\n",
    "table_model_based.sort_values(['RMSE_Values','MAPE_Values'],ascending = [True, True]) "
   ]
  },
  {
   "cell_type": "markdown",
   "id": "44784b93",
   "metadata": {},
   "source": [
    "### Concating both Data Driven Methods and Model based Methods Results "
   ]
  },
  {
   "cell_type": "code",
   "execution_count": 56,
   "id": "0bd48859",
   "metadata": {
    "ExecuteTime": {
     "end_time": "2023-06-30T09:06:40.804198Z",
     "start_time": "2023-06-30T09:06:40.763530Z"
    }
   },
   "outputs": [
    {
     "data": {
      "text/html": [
       "<div>\n",
       "<style scoped>\n",
       "    .dataframe tbody tr th:only-of-type {\n",
       "        vertical-align: middle;\n",
       "    }\n",
       "\n",
       "    .dataframe tbody tr th {\n",
       "        vertical-align: top;\n",
       "    }\n",
       "\n",
       "    .dataframe thead th {\n",
       "        text-align: right;\n",
       "    }\n",
       "</style>\n",
       "<table border=\"1\" class=\"dataframe\">\n",
       "  <thead>\n",
       "    <tr style=\"text-align: right;\">\n",
       "      <th></th>\n",
       "      <th>MODEL</th>\n",
       "      <th>MAPE_Values</th>\n",
       "      <th>RMSE_Values</th>\n",
       "    </tr>\n",
       "  </thead>\n",
       "  <tbody>\n",
       "    <tr>\n",
       "      <th>3</th>\n",
       "      <td>holtw_add_add_model</td>\n",
       "      <td>13.029693</td>\n",
       "      <td>343.705363</td>\n",
       "    </tr>\n",
       "    <tr>\n",
       "      <th>4</th>\n",
       "      <td>holtw_mult_add_model</td>\n",
       "      <td>19.205554</td>\n",
       "      <td>377.953315</td>\n",
       "    </tr>\n",
       "    <tr>\n",
       "      <th>1</th>\n",
       "      <td>holt_model</td>\n",
       "      <td>15.675039</td>\n",
       "      <td>428.600390</td>\n",
       "    </tr>\n",
       "    <tr>\n",
       "      <th>2</th>\n",
       "      <td>holt_winter_model</td>\n",
       "      <td>44.174789</td>\n",
       "      <td>1059.797141</td>\n",
       "    </tr>\n",
       "    <tr>\n",
       "      <th>0</th>\n",
       "      <td>linear_model</td>\n",
       "      <td>55.542131</td>\n",
       "      <td>1182.300174</td>\n",
       "    </tr>\n",
       "    <tr>\n",
       "      <th>2</th>\n",
       "      <td>quadratic_model</td>\n",
       "      <td>58.370974</td>\n",
       "      <td>1233.689130</td>\n",
       "    </tr>\n",
       "    <tr>\n",
       "      <th>0</th>\n",
       "      <td>ses_model</td>\n",
       "      <td>57.412700</td>\n",
       "      <td>1244.608396</td>\n",
       "    </tr>\n",
       "    <tr>\n",
       "      <th>3</th>\n",
       "      <td>additive_seasonality_model</td>\n",
       "      <td>80.311374</td>\n",
       "      <td>1579.996320</td>\n",
       "    </tr>\n",
       "    <tr>\n",
       "      <th>5</th>\n",
       "      <td>multiplicative_additive_model</td>\n",
       "      <td>99.543316</td>\n",
       "      <td>1872.236971</td>\n",
       "    </tr>\n",
       "    <tr>\n",
       "      <th>1</th>\n",
       "      <td>exponential_model</td>\n",
       "      <td>99.543520</td>\n",
       "      <td>1872.239146</td>\n",
       "    </tr>\n",
       "    <tr>\n",
       "      <th>4</th>\n",
       "      <td>multiplicative_seasonality_model</td>\n",
       "      <td>99.663027</td>\n",
       "      <td>1874.216976</td>\n",
       "    </tr>\n",
       "  </tbody>\n",
       "</table>\n",
       "</div>"
      ],
      "text/plain": [
       "                              MODEL  MAPE_Values  RMSE_Values\n",
       "3               holtw_add_add_model    13.029693   343.705363\n",
       "4              holtw_mult_add_model    19.205554   377.953315\n",
       "1                        holt_model    15.675039   428.600390\n",
       "2                 holt_winter_model    44.174789  1059.797141\n",
       "0                      linear_model    55.542131  1182.300174\n",
       "2                   quadratic_model    58.370974  1233.689130\n",
       "0                         ses_model    57.412700  1244.608396\n",
       "3        additive_seasonality_model    80.311374  1579.996320\n",
       "5     multiplicative_additive_model    99.543316  1872.236971\n",
       "1                 exponential_model    99.543520  1872.239146\n",
       "4  multiplicative_seasonality_model    99.663027  1874.216976"
      ]
     },
     "execution_count": 56,
     "metadata": {},
     "output_type": "execute_result"
    }
   ],
   "source": [
    "Methods=[table_data_driven,table_model_based]\n",
    "Results=pd.concat(Methods)\n",
    "Results.sort_values(['RMSE_Values','MAPE_Values'],ascending = [True, True])"
   ]
  },
  {
   "cell_type": "markdown",
   "id": "61917ab6",
   "metadata": {},
   "source": [
    "From the both **Data driven methods** and **Model based methods** <br> \n",
    "**Holts winter exponential smoothing with additive seasonality and additive trend** has **Lowest MAPE and RMSE Values** as **13.215355 &  350.019695** respectively"
   ]
  },
  {
   "cell_type": "markdown",
   "id": "0176016e",
   "metadata": {},
   "source": [
    "###  ARIMA Model"
   ]
  },
  {
   "cell_type": "code",
   "execution_count": 50,
   "id": "0f776b17",
   "metadata": {
    "ExecuteTime": {
     "end_time": "2023-06-30T09:07:42.256975Z",
     "start_time": "2023-06-30T09:06:40.808186Z"
    }
   },
   "outputs": [
    {
     "name": "stdout",
     "output_type": "stream",
     "text": [
      "Requirement already satisfied: pmdarima in c:\\users\\vaio\\anaconda3\\lib\\site-packages (2.0.4)\n",
      "Requirement already satisfied: joblib>=0.11 in c:\\users\\vaio\\anaconda3\\lib\\site-packages (from pmdarima) (1.2.0)\n",
      "Requirement already satisfied: Cython!=0.29.18,!=0.29.31,>=0.29 in c:\\users\\vaio\\anaconda3\\lib\\site-packages (from pmdarima) (3.0.10)\n",
      "Requirement already satisfied: numpy>=1.21.2 in c:\\users\\vaio\\anaconda3\\lib\\site-packages (from pmdarima) (1.26.4)\n",
      "Requirement already satisfied: pandas>=0.19 in c:\\users\\vaio\\anaconda3\\lib\\site-packages (from pmdarima) (2.1.4)\n",
      "Requirement already satisfied: scikit-learn>=0.22 in c:\\users\\vaio\\anaconda3\\lib\\site-packages (from pmdarima) (1.2.2)\n",
      "Requirement already satisfied: scipy>=1.3.2 in c:\\users\\vaio\\anaconda3\\lib\\site-packages (from pmdarima) (1.11.4)\n",
      "Requirement already satisfied: statsmodels>=0.13.2 in c:\\users\\vaio\\anaconda3\\lib\\site-packages (from pmdarima) (0.14.0)\n",
      "Requirement already satisfied: urllib3 in c:\\users\\vaio\\anaconda3\\lib\\site-packages (from pmdarima) (2.0.7)\n",
      "Requirement already satisfied: setuptools!=50.0.0,>=38.6.0 in c:\\users\\vaio\\anaconda3\\lib\\site-packages (from pmdarima) (68.2.2)\n",
      "Requirement already satisfied: packaging>=17.1 in c:\\users\\vaio\\anaconda3\\lib\\site-packages (from pmdarima) (23.1)\n",
      "Requirement already satisfied: python-dateutil>=2.8.2 in c:\\users\\vaio\\anaconda3\\lib\\site-packages (from pandas>=0.19->pmdarima) (2.8.2)\n",
      "Requirement already satisfied: pytz>=2020.1 in c:\\users\\vaio\\anaconda3\\lib\\site-packages (from pandas>=0.19->pmdarima) (2023.3.post1)\n",
      "Requirement already satisfied: tzdata>=2022.1 in c:\\users\\vaio\\anaconda3\\lib\\site-packages (from pandas>=0.19->pmdarima) (2023.3)\n",
      "Requirement already satisfied: threadpoolctl>=2.0.0 in c:\\users\\vaio\\anaconda3\\lib\\site-packages (from scikit-learn>=0.22->pmdarima) (2.2.0)\n",
      "Requirement already satisfied: patsy>=0.5.2 in c:\\users\\vaio\\anaconda3\\lib\\site-packages (from statsmodels>=0.13.2->pmdarima) (0.5.3)\n",
      "Requirement already satisfied: six in c:\\users\\vaio\\anaconda3\\lib\\site-packages (from patsy>=0.5.2->statsmodels>=0.13.2->pmdarima) (1.16.0)\n",
      "Performing stepwise search to minimize aic\n",
      " ARIMA(1,1,1)(0,1,1)[12]             : AIC=inf, Time=0.37 sec\n",
      " ARIMA(0,1,0)(0,1,0)[12]             : AIC=1107.095, Time=0.04 sec\n",
      " ARIMA(1,1,0)(1,1,0)[12]             : AIC=1095.930, Time=0.19 sec\n",
      " ARIMA(0,1,1)(0,1,1)[12]             : AIC=1092.001, Time=0.25 sec\n",
      " ARIMA(0,1,1)(0,1,0)[12]             : AIC=1106.432, Time=0.09 sec\n",
      " ARIMA(0,1,1)(1,1,1)[12]             : AIC=1092.993, Time=0.40 sec\n",
      " ARIMA(0,1,1)(0,1,2)[12]             : AIC=1092.706, Time=0.66 sec\n",
      " ARIMA(0,1,1)(1,1,0)[12]             : AIC=1095.818, Time=0.11 sec\n",
      " ARIMA(0,1,1)(1,1,2)[12]             : AIC=inf, Time=2.15 sec\n",
      " ARIMA(0,1,0)(0,1,1)[12]             : AIC=1090.080, Time=0.16 sec\n",
      " ARIMA(0,1,0)(1,1,1)[12]             : AIC=1090.993, Time=0.33 sec\n",
      " ARIMA(0,1,0)(0,1,2)[12]             : AIC=1090.710, Time=0.91 sec\n",
      " ARIMA(0,1,0)(1,1,0)[12]             : AIC=1094.021, Time=0.10 sec\n",
      " ARIMA(0,1,0)(1,1,2)[12]             : AIC=inf, Time=1.51 sec\n",
      " ARIMA(1,1,0)(0,1,1)[12]             : AIC=1092.048, Time=0.25 sec\n",
      " ARIMA(0,1,0)(0,1,1)[12] intercept   : AIC=1089.669, Time=0.22 sec\n",
      " ARIMA(0,1,0)(0,1,0)[12] intercept   : AIC=1108.868, Time=0.04 sec\n",
      " ARIMA(0,1,0)(1,1,1)[12] intercept   : AIC=1090.318, Time=0.48 sec\n",
      " ARIMA(0,1,0)(0,1,2)[12] intercept   : AIC=1089.993, Time=0.65 sec\n",
      " ARIMA(0,1,0)(1,1,0)[12] intercept   : AIC=1094.964, Time=0.36 sec\n",
      " ARIMA(0,1,0)(1,1,2)[12] intercept   : AIC=inf, Time=2.09 sec\n",
      " ARIMA(1,1,0)(0,1,1)[12] intercept   : AIC=1091.477, Time=0.53 sec\n",
      " ARIMA(0,1,1)(0,1,1)[12] intercept   : AIC=1091.113, Time=0.38 sec\n",
      " ARIMA(1,1,1)(0,1,1)[12] intercept   : AIC=inf, Time=0.48 sec\n",
      "\n",
      "Best model:  ARIMA(0,1,0)(0,1,1)[12] intercept\n",
      "Total fit time: 12.800 seconds\n"
     ]
    },
    {
     "data": {
      "text/html": [
       "<table class=\"simpletable\">\n",
       "<caption>SARIMAX Results</caption>\n",
       "<tr>\n",
       "  <th>Dep. Variable:</th>                   <td>y</td>                <th>  No. Observations:  </th>    <td>97</td>   \n",
       "</tr>\n",
       "<tr>\n",
       "  <th>Model:</th>           <td>SARIMAX(0, 1, 0)x(0, 1, [1], 12)</td> <th>  Log Likelihood     </th> <td>-541.835</td>\n",
       "</tr>\n",
       "<tr>\n",
       "  <th>Date:</th>                    <td>Tue, 23 Apr 2024</td>         <th>  AIC                </th> <td>1089.669</td>\n",
       "</tr>\n",
       "<tr>\n",
       "  <th>Time:</th>                        <td>20:23:14</td>             <th>  BIC                </th> <td>1096.962</td>\n",
       "</tr>\n",
       "<tr>\n",
       "  <th>Sample:</th>                     <td>03-31-2000</td>            <th>  HQIC               </th> <td>1092.601</td>\n",
       "</tr>\n",
       "<tr>\n",
       "  <th></th>                           <td>- 03-31-2024</td>           <th>                     </th>     <td> </td>   \n",
       "</tr>\n",
       "<tr>\n",
       "  <th>Covariance Type:</th>                <td>opg</td>               <th>                     </th>     <td> </td>   \n",
       "</tr>\n",
       "</table>\n",
       "<table class=\"simpletable\">\n",
       "<tr>\n",
       "      <td></td>         <th>coef</th>     <th>std err</th>      <th>z</th>      <th>P>|z|</th>  <th>[0.025</th>    <th>0.975]</th>  \n",
       "</tr>\n",
       "<tr>\n",
       "  <th>intercept</th> <td>   11.3416</td> <td>    8.004</td> <td>    1.417</td> <td> 0.156</td> <td>   -4.345</td> <td>   27.028</td>\n",
       "</tr>\n",
       "<tr>\n",
       "  <th>ma.S.L12</th>  <td>   -0.7484</td> <td>    0.115</td> <td>   -6.489</td> <td> 0.000</td> <td>   -0.974</td> <td>   -0.522</td>\n",
       "</tr>\n",
       "<tr>\n",
       "  <th>sigma2</th>    <td> 2.108e+04</td> <td> 2895.420</td> <td>    7.282</td> <td> 0.000</td> <td> 1.54e+04</td> <td> 2.68e+04</td>\n",
       "</tr>\n",
       "</table>\n",
       "<table class=\"simpletable\">\n",
       "<tr>\n",
       "  <th>Ljung-Box (L1) (Q):</th>     <td>0.16</td> <th>  Jarque-Bera (JB):  </th> <td>65.80</td>\n",
       "</tr>\n",
       "<tr>\n",
       "  <th>Prob(Q):</th>                <td>0.69</td> <th>  Prob(JB):          </th> <td>0.00</td> \n",
       "</tr>\n",
       "<tr>\n",
       "  <th>Heteroskedasticity (H):</th> <td>1.96</td> <th>  Skew:              </th> <td>0.42</td> \n",
       "</tr>\n",
       "<tr>\n",
       "  <th>Prob(H) (two-sided):</th>    <td>0.08</td> <th>  Kurtosis:          </th> <td>7.25</td> \n",
       "</tr>\n",
       "</table><br/><br/>Warnings:<br/>[1] Covariance matrix calculated using the outer product of gradients (complex-step)."
      ],
      "text/latex": [
       "\\begin{center}\n",
       "\\begin{tabular}{lclc}\n",
       "\\toprule\n",
       "\\textbf{Dep. Variable:}          &                y                 & \\textbf{  No. Observations:  } &     97      \\\\\n",
       "\\textbf{Model:}                  & SARIMAX(0, 1, 0)x(0, 1, [1], 12) & \\textbf{  Log Likelihood     } &  -541.835   \\\\\n",
       "\\textbf{Date:}                   &         Tue, 23 Apr 2024         & \\textbf{  AIC                } &  1089.669   \\\\\n",
       "\\textbf{Time:}                   &             20:23:14             & \\textbf{  BIC                } &  1096.962   \\\\\n",
       "\\textbf{Sample:}                 &            03-31-2000            & \\textbf{  HQIC               } &  1092.601   \\\\\n",
       "\\textbf{}                        &           - 03-31-2024           & \\textbf{                     } &             \\\\\n",
       "\\textbf{Covariance Type:}        &               opg                & \\textbf{                     } &             \\\\\n",
       "\\bottomrule\n",
       "\\end{tabular}\n",
       "\\begin{tabular}{lcccccc}\n",
       "                   & \\textbf{coef} & \\textbf{std err} & \\textbf{z} & \\textbf{P$> |$z$|$} & \\textbf{[0.025} & \\textbf{0.975]}  \\\\\n",
       "\\midrule\n",
       "\\textbf{intercept} &      11.3416  &        8.004     &     1.417  &         0.156        &       -4.345    &       27.028     \\\\\n",
       "\\textbf{ma.S.L12}  &      -0.7484  &        0.115     &    -6.489  &         0.000        &       -0.974    &       -0.522     \\\\\n",
       "\\textbf{sigma2}    &    2.108e+04  &     2895.420     &     7.282  &         0.000        &     1.54e+04    &     2.68e+04     \\\\\n",
       "\\bottomrule\n",
       "\\end{tabular}\n",
       "\\begin{tabular}{lclc}\n",
       "\\textbf{Ljung-Box (L1) (Q):}     & 0.16 & \\textbf{  Jarque-Bera (JB):  } & 65.80  \\\\\n",
       "\\textbf{Prob(Q):}                & 0.69 & \\textbf{  Prob(JB):          } &  0.00  \\\\\n",
       "\\textbf{Heteroskedasticity (H):} & 1.96 & \\textbf{  Skew:              } &  0.42  \\\\\n",
       "\\textbf{Prob(H) (two-sided):}    & 0.08 & \\textbf{  Kurtosis:          } &  7.25  \\\\\n",
       "\\bottomrule\n",
       "\\end{tabular}\n",
       "%\\caption{SARIMAX Results}\n",
       "\\end{center}\n",
       "\n",
       "Warnings: \\newline\n",
       " [1] Covariance matrix calculated using the outer product of gradients (complex-step)."
      ],
      "text/plain": [
       "<class 'statsmodels.iolib.summary.Summary'>\n",
       "\"\"\"\n",
       "                                      SARIMAX Results                                       \n",
       "============================================================================================\n",
       "Dep. Variable:                                    y   No. Observations:                   97\n",
       "Model:             SARIMAX(0, 1, 0)x(0, 1, [1], 12)   Log Likelihood                -541.835\n",
       "Date:                              Tue, 23 Apr 2024   AIC                           1089.669\n",
       "Time:                                      20:23:14   BIC                           1096.962\n",
       "Sample:                                  03-31-2000   HQIC                          1092.601\n",
       "                                       - 03-31-2024                                         \n",
       "Covariance Type:                                opg                                         \n",
       "==============================================================================\n",
       "                 coef    std err          z      P>|z|      [0.025      0.975]\n",
       "------------------------------------------------------------------------------\n",
       "intercept     11.3416      8.004      1.417      0.156      -4.345      27.028\n",
       "ma.S.L12      -0.7484      0.115     -6.489      0.000      -0.974      -0.522\n",
       "sigma2      2.108e+04   2895.420      7.282      0.000    1.54e+04    2.68e+04\n",
       "===================================================================================\n",
       "Ljung-Box (L1) (Q):                   0.16   Jarque-Bera (JB):                65.80\n",
       "Prob(Q):                              0.69   Prob(JB):                         0.00\n",
       "Heteroskedasticity (H):               1.96   Skew:                             0.42\n",
       "Prob(H) (two-sided):                  0.08   Kurtosis:                         7.25\n",
       "===================================================================================\n",
       "\n",
       "Warnings:\n",
       "[1] Covariance matrix calculated using the outer product of gradients (complex-step).\n",
       "\"\"\""
      ]
     },
     "execution_count": 50,
     "metadata": {},
     "output_type": "execute_result"
    }
   ],
   "source": [
    "# Installing pmdarima library\n",
    "!pip install pmdarima\n",
    "\n",
    "# Import the library\n",
    "from pmdarima import auto_arima\n",
    "\n",
    "# Ignore harmless warnings\n",
    "import warnings\n",
    "warnings.filterwarnings(\"ignore\")\n",
    "\n",
    "# Fit auto_arima function to Reliance dataset\n",
    "stepwise_fit = auto_arima(df['Adj_Close'], start_p = 1, start_q = 1, #saying start the p and q values with 1 respectively\n",
    "                        max_p = 3, max_q = 3, m = 12, #end with 3 \n",
    "                        start_P = 0, seasonal = True, #also check seasonality \n",
    "                        d = None, D = 1, trace = True, #integrated i.e differency as 1\n",
    "                        error_action ='ignore', # we don't want to know if an order does not work\n",
    "                        suppress_warnings = True, # we don't want convergence warnings\n",
    "                        stepwise = True) # set to stepwise\n",
    "\n",
    "# To print the summary\n",
    "stepwise_fit.summary()\n"
   ]
  },
  {
   "cell_type": "markdown",
   "id": "9b0d7d01",
   "metadata": {},
   "source": [
    "From the above result we can see that the best values for (p,d,q) to our dataset are (2,1,2) and seasonal order is (0,1,0,12)"
   ]
  },
  {
   "cell_type": "markdown",
   "id": "c6cb517f",
   "metadata": {},
   "source": [
    "**Fitting ARIMA Model to Reliance dataset**"
   ]
  },
  {
   "cell_type": "code",
   "execution_count": 51,
   "id": "baf3a3bd",
   "metadata": {
    "ExecuteTime": {
     "end_time": "2023-06-30T09:07:42.773431Z",
     "start_time": "2023-06-30T09:07:42.261311Z"
    }
   },
   "outputs": [
    {
     "data": {
      "text/html": [
       "<table class=\"simpletable\">\n",
       "<caption>SARIMAX Results</caption>\n",
       "<tr>\n",
       "  <th>Dep. Variable:</th>              <td>Adj_Close</td>            <th>  No. Observations:  </th>    <td>85</td>   \n",
       "</tr>\n",
       "<tr>\n",
       "  <th>Model:</th>           <td>SARIMAX(2, 1, 2)x(0, 1, [], 12)</td> <th>  Log Likelihood     </th> <td>-441.976</td>\n",
       "</tr>\n",
       "<tr>\n",
       "  <th>Date:</th>                   <td>Tue, 23 Apr 2024</td>         <th>  AIC                </th>  <td>893.953</td>\n",
       "</tr>\n",
       "<tr>\n",
       "  <th>Time:</th>                       <td>20:23:14</td>             <th>  BIC                </th>  <td>905.336</td>\n",
       "</tr>\n",
       "<tr>\n",
       "  <th>Sample:</th>                    <td>03-31-2000</td>            <th>  HQIC               </th>  <td>898.485</td>\n",
       "</tr>\n",
       "<tr>\n",
       "  <th></th>                          <td>- 03-31-2021</td>           <th>                     </th>     <td> </td>   \n",
       "</tr>\n",
       "<tr>\n",
       "  <th>Covariance Type:</th>               <td>opg</td>               <th>                     </th>     <td> </td>   \n",
       "</tr>\n",
       "</table>\n",
       "<table class=\"simpletable\">\n",
       "<tr>\n",
       "     <td></td>       <th>coef</th>     <th>std err</th>      <th>z</th>      <th>P>|z|</th>  <th>[0.025</th>    <th>0.975]</th>  \n",
       "</tr>\n",
       "<tr>\n",
       "  <th>ar.L1</th>  <td>   -1.1427</td> <td>    0.175</td> <td>   -6.541</td> <td> 0.000</td> <td>   -1.485</td> <td>   -0.800</td>\n",
       "</tr>\n",
       "<tr>\n",
       "  <th>ar.L2</th>  <td>   -0.7865</td> <td>    0.092</td> <td>   -8.521</td> <td> 0.000</td> <td>   -0.967</td> <td>   -0.606</td>\n",
       "</tr>\n",
       "<tr>\n",
       "  <th>ma.L1</th>  <td>    1.2797</td> <td>    0.222</td> <td>    5.771</td> <td> 0.000</td> <td>    0.845</td> <td>    1.714</td>\n",
       "</tr>\n",
       "<tr>\n",
       "  <th>ma.L2</th>  <td>    0.4686</td> <td>    0.214</td> <td>    2.192</td> <td> 0.028</td> <td>    0.050</td> <td>    0.887</td>\n",
       "</tr>\n",
       "<tr>\n",
       "  <th>sigma2</th> <td>  1.22e+04</td> <td> 1668.011</td> <td>    7.317</td> <td> 0.000</td> <td> 8935.393</td> <td> 1.55e+04</td>\n",
       "</tr>\n",
       "</table>\n",
       "<table class=\"simpletable\">\n",
       "<tr>\n",
       "  <th>Ljung-Box (L1) (Q):</th>     <td>0.00</td> <th>  Jarque-Bera (JB):  </th> <td>38.75</td>\n",
       "</tr>\n",
       "<tr>\n",
       "  <th>Prob(Q):</th>                <td>0.98</td> <th>  Prob(JB):          </th> <td>0.00</td> \n",
       "</tr>\n",
       "<tr>\n",
       "  <th>Heteroskedasticity (H):</th> <td>0.66</td> <th>  Skew:              </th> <td>-0.69</td>\n",
       "</tr>\n",
       "<tr>\n",
       "  <th>Prob(H) (two-sided):</th>    <td>0.31</td> <th>  Kurtosis:          </th> <td>6.32</td> \n",
       "</tr>\n",
       "</table><br/><br/>Warnings:<br/>[1] Covariance matrix calculated using the outer product of gradients (complex-step)."
      ],
      "text/latex": [
       "\\begin{center}\n",
       "\\begin{tabular}{lclc}\n",
       "\\toprule\n",
       "\\textbf{Dep. Variable:}          &            Adj\\_Close           & \\textbf{  No. Observations:  } &     85      \\\\\n",
       "\\textbf{Model:}                  & SARIMAX(2, 1, 2)x(0, 1, [], 12) & \\textbf{  Log Likelihood     } &  -441.976   \\\\\n",
       "\\textbf{Date:}                   &         Tue, 23 Apr 2024        & \\textbf{  AIC                } &  893.953    \\\\\n",
       "\\textbf{Time:}                   &             20:23:14            & \\textbf{  BIC                } &  905.336    \\\\\n",
       "\\textbf{Sample:}                 &            03-31-2000           & \\textbf{  HQIC               } &  898.485    \\\\\n",
       "\\textbf{}                        &           - 03-31-2021          & \\textbf{                     } &             \\\\\n",
       "\\textbf{Covariance Type:}        &               opg               & \\textbf{                     } &             \\\\\n",
       "\\bottomrule\n",
       "\\end{tabular}\n",
       "\\begin{tabular}{lcccccc}\n",
       "                & \\textbf{coef} & \\textbf{std err} & \\textbf{z} & \\textbf{P$> |$z$|$} & \\textbf{[0.025} & \\textbf{0.975]}  \\\\\n",
       "\\midrule\n",
       "\\textbf{ar.L1}  &      -1.1427  &        0.175     &    -6.541  &         0.000        &       -1.485    &       -0.800     \\\\\n",
       "\\textbf{ar.L2}  &      -0.7865  &        0.092     &    -8.521  &         0.000        &       -0.967    &       -0.606     \\\\\n",
       "\\textbf{ma.L1}  &       1.2797  &        0.222     &     5.771  &         0.000        &        0.845    &        1.714     \\\\\n",
       "\\textbf{ma.L2}  &       0.4686  &        0.214     &     2.192  &         0.028        &        0.050    &        0.887     \\\\\n",
       "\\textbf{sigma2} &     1.22e+04  &     1668.011     &     7.317  &         0.000        &     8935.393    &     1.55e+04     \\\\\n",
       "\\bottomrule\n",
       "\\end{tabular}\n",
       "\\begin{tabular}{lclc}\n",
       "\\textbf{Ljung-Box (L1) (Q):}     & 0.00 & \\textbf{  Jarque-Bera (JB):  } & 38.75  \\\\\n",
       "\\textbf{Prob(Q):}                & 0.98 & \\textbf{  Prob(JB):          } &  0.00  \\\\\n",
       "\\textbf{Heteroskedasticity (H):} & 0.66 & \\textbf{  Skew:              } & -0.69  \\\\\n",
       "\\textbf{Prob(H) (two-sided):}    & 0.31 & \\textbf{  Kurtosis:          } &  6.32  \\\\\n",
       "\\bottomrule\n",
       "\\end{tabular}\n",
       "%\\caption{SARIMAX Results}\n",
       "\\end{center}\n",
       "\n",
       "Warnings: \\newline\n",
       " [1] Covariance matrix calculated using the outer product of gradients (complex-step)."
      ],
      "text/plain": [
       "<class 'statsmodels.iolib.summary.Summary'>\n",
       "\"\"\"\n",
       "                                      SARIMAX Results                                      \n",
       "===========================================================================================\n",
       "Dep. Variable:                           Adj_Close   No. Observations:                   85\n",
       "Model:             SARIMAX(2, 1, 2)x(0, 1, [], 12)   Log Likelihood                -441.976\n",
       "Date:                             Tue, 23 Apr 2024   AIC                            893.953\n",
       "Time:                                     20:23:14   BIC                            905.336\n",
       "Sample:                                 03-31-2000   HQIC                           898.485\n",
       "                                      - 03-31-2021                                         \n",
       "Covariance Type:                               opg                                         \n",
       "==============================================================================\n",
       "                 coef    std err          z      P>|z|      [0.025      0.975]\n",
       "------------------------------------------------------------------------------\n",
       "ar.L1         -1.1427      0.175     -6.541      0.000      -1.485      -0.800\n",
       "ar.L2         -0.7865      0.092     -8.521      0.000      -0.967      -0.606\n",
       "ma.L1          1.2797      0.222      5.771      0.000       0.845       1.714\n",
       "ma.L2          0.4686      0.214      2.192      0.028       0.050       0.887\n",
       "sigma2       1.22e+04   1668.011      7.317      0.000    8935.393    1.55e+04\n",
       "===================================================================================\n",
       "Ljung-Box (L1) (Q):                   0.00   Jarque-Bera (JB):                38.75\n",
       "Prob(Q):                              0.98   Prob(JB):                         0.00\n",
       "Heteroskedasticity (H):               0.66   Skew:                            -0.69\n",
       "Prob(H) (two-sided):                  0.31   Kurtosis:                         6.32\n",
       "===================================================================================\n",
       "\n",
       "Warnings:\n",
       "[1] Covariance matrix calculated using the outer product of gradients (complex-step).\n",
       "\"\"\""
      ]
     },
     "execution_count": 51,
     "metadata": {},
     "output_type": "execute_result"
    }
   ],
   "source": [
    "# Spliting data into train / test sets\n",
    "train = df.iloc[:len(df)-12]\n",
    "test = df.iloc[len(df)-12:] # Taking one year(12 months) for testing\n",
    "  \n",
    "# Fitting SARIMAX(2, 1, 2)x(0, 1, 0, 12) on the training set\n",
    "from statsmodels.tsa.statespace.sarimax import SARIMAX #SARIMAX means Seasonal ARIMA with exogenous variables\n",
    "  \n",
    "model = SARIMAX(train['Adj_Close'], \n",
    "                order = (2, 1, 2), \n",
    "                seasonal_order =(0, 1, 0, 12))\n",
    "  \n",
    "result = model.fit()\n",
    "result.summary()"
   ]
  },
  {
   "cell_type": "markdown",
   "id": "83874ee2",
   "metadata": {},
   "source": [
    "**Predictions of ARIMA Model against the test set**"
   ]
  },
  {
   "cell_type": "code",
   "execution_count": 52,
   "id": "e7c34f33",
   "metadata": {
    "ExecuteTime": {
     "end_time": "2023-06-30T09:07:43.177747Z",
     "start_time": "2023-06-30T09:07:42.778419Z"
    }
   },
   "outputs": [
    {
     "data": {
      "text/plain": [
       "<Axes: xlabel='Date'>"
      ]
     },
     "execution_count": 52,
     "metadata": {},
     "output_type": "execute_result"
    },
    {
     "data": {
      "image/png": "[encoded data removed]",
      "text/plain": [
       "<Figure size 640x480 with 1 Axes>"
      ]
     },
     "metadata": {},
     "output_type": "display_data"
    }
   ],
   "source": [
    "start = len(train)\n",
    "end = len(train) + len(test) - 1\n",
    "  \n",
    "# Predictions for one-year against the test set\n",
    "predictions = result.predict(start, end,\n",
    "                             typ = 'levels').rename(\"Predictions\")\n",
    "  \n",
    "# plot predictions and actual values\n",
    "predictions.plot(legend = True)\n",
    "test['Adj_Close'].plot(legend = True)"
   ]
  },
  {
   "cell_type": "markdown",
   "id": "7ce700a8",
   "metadata": {},
   "source": [
    "**Calculating the RMSE and MAPE Values for ARIMA Model**"
   ]
  },
  {
   "cell_type": "code",
   "execution_count": 60,
   "id": "40db5a75",
   "metadata": {
    "ExecuteTime": {
     "end_time": "2023-06-30T09:07:43.192973Z",
     "start_time": "2023-06-30T09:07:43.180884Z"
    }
   },
   "outputs": [
    {
     "name": "stdout",
     "output_type": "stream",
     "text": [
      "MAPE Value for ARIMA Model =  6.27907089874351\n",
      "RMSE Value for ARIMA Model =  148.84364295202732\n"
     ]
    }
   ],
   "source": [
    "rmse_ARIMA = RMSE(test.Adj_Close, predictions)\n",
    "mape_ARIMA = MAPE(predictions,test.Adj_Close)\n",
    "print(\"MAPE Value for ARIMA Model = \" ,mape_ARIMA)\n",
    "print(\"RMSE Value for ARIMA Model = \" ,rmse_ARIMA)"
   ]
  },
  {
   "cell_type": "markdown",
   "id": "2c88b437",
   "metadata": {},
   "source": [
    "**Comparing the All the results of Builded Models**"
   ]
  },
  {
   "cell_type": "code",
   "execution_count": 61,
   "id": "eaca477b",
   "metadata": {
    "ExecuteTime": {
     "end_time": "2023-06-30T09:07:43.223809Z",
     "start_time": "2023-06-30T09:07:43.195464Z"
    }
   },
   "outputs": [
    {
     "data": {
      "text/html": [
       "<div>\n",
       "<style scoped>\n",
       "    .dataframe tbody tr th:only-of-type {\n",
       "        vertical-align: middle;\n",
       "    }\n",
       "\n",
       "    .dataframe tbody tr th {\n",
       "        vertical-align: top;\n",
       "    }\n",
       "\n",
       "    .dataframe thead th {\n",
       "        text-align: right;\n",
       "    }\n",
       "</style>\n",
       "<table border=\"1\" class=\"dataframe\">\n",
       "  <thead>\n",
       "    <tr style=\"text-align: right;\">\n",
       "      <th></th>\n",
       "      <th>MODEL</th>\n",
       "      <th>MAPE_Values</th>\n",
       "      <th>RMSE_Values</th>\n",
       "    </tr>\n",
       "  </thead>\n",
       "  <tbody>\n",
       "    <tr>\n",
       "      <th>0</th>\n",
       "      <td>Arima_model</td>\n",
       "      <td>6.279071</td>\n",
       "      <td>148.843643</td>\n",
       "    </tr>\n",
       "    <tr>\n",
       "      <th>3</th>\n",
       "      <td>holtw_add_add_model</td>\n",
       "      <td>13.029693</td>\n",
       "      <td>343.705363</td>\n",
       "    </tr>\n",
       "    <tr>\n",
       "      <th>4</th>\n",
       "      <td>holtw_mult_add_model</td>\n",
       "      <td>19.205554</td>\n",
       "      <td>377.953315</td>\n",
       "    </tr>\n",
       "    <tr>\n",
       "      <th>1</th>\n",
       "      <td>holt_model</td>\n",
       "      <td>15.675039</td>\n",
       "      <td>428.600390</td>\n",
       "    </tr>\n",
       "    <tr>\n",
       "      <th>2</th>\n",
       "      <td>holt_winter_model</td>\n",
       "      <td>44.174789</td>\n",
       "      <td>1059.797141</td>\n",
       "    </tr>\n",
       "    <tr>\n",
       "      <th>0</th>\n",
       "      <td>linear_model</td>\n",
       "      <td>55.542131</td>\n",
       "      <td>1182.300174</td>\n",
       "    </tr>\n",
       "    <tr>\n",
       "      <th>2</th>\n",
       "      <td>quadratic_model</td>\n",
       "      <td>58.370974</td>\n",
       "      <td>1233.689130</td>\n",
       "    </tr>\n",
       "    <tr>\n",
       "      <th>0</th>\n",
       "      <td>ses_model</td>\n",
       "      <td>57.412700</td>\n",
       "      <td>1244.608396</td>\n",
       "    </tr>\n",
       "    <tr>\n",
       "      <th>3</th>\n",
       "      <td>additive_seasonality_model</td>\n",
       "      <td>80.311374</td>\n",
       "      <td>1579.996320</td>\n",
       "    </tr>\n",
       "    <tr>\n",
       "      <th>5</th>\n",
       "      <td>multiplicative_additive_model</td>\n",
       "      <td>99.543316</td>\n",
       "      <td>1872.236971</td>\n",
       "    </tr>\n",
       "    <tr>\n",
       "      <th>1</th>\n",
       "      <td>exponential_model</td>\n",
       "      <td>99.543520</td>\n",
       "      <td>1872.239146</td>\n",
       "    </tr>\n",
       "    <tr>\n",
       "      <th>4</th>\n",
       "      <td>multiplicative_seasonality_model</td>\n",
       "      <td>99.663027</td>\n",
       "      <td>1874.216976</td>\n",
       "    </tr>\n",
       "  </tbody>\n",
       "</table>\n",
       "</div>"
      ],
      "text/plain": [
       "                              MODEL  MAPE_Values  RMSE_Values\n",
       "0                       Arima_model     6.279071   148.843643\n",
       "3               holtw_add_add_model    13.029693   343.705363\n",
       "4              holtw_mult_add_model    19.205554   377.953315\n",
       "1                        holt_model    15.675039   428.600390\n",
       "2                 holt_winter_model    44.174789  1059.797141\n",
       "0                      linear_model    55.542131  1182.300174\n",
       "2                   quadratic_model    58.370974  1233.689130\n",
       "0                         ses_model    57.412700  1244.608396\n",
       "3        additive_seasonality_model    80.311374  1579.996320\n",
       "5     multiplicative_additive_model    99.543316  1872.236971\n",
       "1                 exponential_model    99.543520  1872.239146\n",
       "4  multiplicative_seasonality_model    99.663027  1874.216976"
      ]
     },
     "execution_count": 61,
     "metadata": {},
     "output_type": "execute_result"
    }
   ],
   "source": [
    "arima_result = pd.DataFrame({\n",
    "    \"MODEL\": [\"Arima_model\"],\n",
    "    \"MAPE_Values\": [mape_ARIMA],\n",
    "    \"RMSE_Values\": [rmse_ARIMA]})\n",
    "Results=Results.append(arima_result)\n",
    "Results.sort_values(['RMSE_Values','MAPE_Values'],ascending = [True, True])"
   ]
  },
  {
   "cell_type": "markdown",
   "id": "b9f76371",
   "metadata": {},
   "source": [
    "From the above results table we can see that **ARIMA Model** has gave the **least RMSE and MAPE Values** as **6.279088 & 148.843976**.<br> So we predict or Forcast the upcoming \n",
    "years Closing values of **Reliance Stock using the ARIMA Model**"
   ]
  },
  {
   "cell_type": "markdown",
   "id": "c85d0522",
   "metadata": {},
   "source": [
    "**Forecast using ARIMA Model**"
   ]
  },
  {
   "cell_type": "code",
   "execution_count": 53,
   "id": "19ecc68c",
   "metadata": {
    "ExecuteTime": {
     "end_time": "2023-06-30T09:07:44.132680Z",
     "start_time": "2023-06-30T09:07:43.226691Z"
    }
   },
   "outputs": [
    {
     "data": {
      "text/plain": [
       "<Axes: xlabel='Date'>"
      ]
     },
     "execution_count": 53,
     "metadata": {},
     "output_type": "execute_result"
    },
    {
     "data": {
      "image/png": "[encoded data removed]",
      "text/plain": [
       "<Figure size 1200x500 with 1 Axes>"
      ]
     },
     "metadata": {},
     "output_type": "display_data"
    }
   ],
   "source": [
    "# Train the model on the full dataset\n",
    "model = model = SARIMAX(df['Adj_Close'], \n",
    "                        order = (2, 1, 2), \n",
    "                        seasonal_order =(0, 1, 0, 12))\n",
    "result = model.fit()\n",
    "  \n",
    "# Forecast for the next 1 years\n",
    "forecast = result.predict(start = len(df), \n",
    "                          end = (len(df)-1) + 1 * 12, \n",
    "                          typ = 'levels').rename('Forecast')\n",
    "  \n",
    "# Plot the forecast values\n",
    "df['Adj_Close'].plot(figsize = (12, 5), legend = True)\n",
    "forecast.plot(legend = True)"
   ]
  },
  {
   "cell_type": "code",
   "execution_count": null,
   "id": "057f9467",
   "metadata": {},
   "outputs": [],
   "source": []
  }
 ],
 "metadata": {
  "kernelspec": {
   "display_name": "Python 3 (ipykernel)",
   "language": "python",
   "name": "python3"
  },
  "language_info": {
   "codemirror_mode": {
    "name": "ipython",
    "version": 3
   },
   "file_extension": ".py",
   "mimetype": "text/x-python",
   "name": "python",
   "nbconvert_exporter": "python",
   "pygments_lexer": "ipython3",
   "version": "3.11.7"
  }
 },
 "nbformat": 4,
 "nbformat_minor": 5
}
